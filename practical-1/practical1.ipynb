{
 "cells": [
  {
   "cell_type": "code",
   "execution_count": 3,
   "metadata": {
    "collapsed": false,
    "deletable": true,
    "editable": true
   },
   "outputs": [
    {
     "ename": "SyntaxError",
     "evalue": "invalid syntax (<ipython-input-3-80dd3f63a873>, line 2)",
     "output_type": "error",
     "traceback": [
      "\u001b[0;36m  File \u001b[0;32m\"<ipython-input-3-80dd3f63a873>\"\u001b[0;36m, line \u001b[0;32m2\u001b[0m\n\u001b[0;31m    <p>Oxford CS - Deep NLP 2017<br>\u001b[0m\n\u001b[0m    ^\u001b[0m\n\u001b[0;31mSyntaxError\u001b[0m\u001b[0;31m:\u001b[0m invalid syntax\n"
     ]
    }
   ],
   "source": [
    "## Practical 1: word2vec\n",
    "<p>Oxford CS - Deep NLP 2017<br>\n",
    "https://www.cs.ox.ac.uk/teaching/courses/2016-2017/dl/</p>\n",
    "<p>[Yannis Assael, Brendan Shillingford, Chris Dyer]</p>"
   ]
  },
  {
   "cell_type": "markdown",
   "metadata": {
    "deletable": true,
    "editable": true
   },
   "source": [
    "This practical is presented as an IPython Notebook, with the code written for recent versions of **Python 3**. The code in this practical will not work with Python 2 unless you modify it. If you are using your own Python installation, ensure you have a setup identical to that described in the installation shell script (which is intended for use with the department lab machines). We will be unable to support installation on personal machines due to time constraints, so please use the lab machines and the setup script if you are unfamiliar with how to install Anaconda.\n",
    "\n",
    "To execute a notebook cell, press `shift-enter`. The return value of the last command will be displayed, if it is not `None`.\n",
    "\n",
    "Potentially useful library documentation, references, and resources:\n",
    "\n",
    "* IPython notebooks: <https://ipython.org/ipython-doc/3/notebook/notebook.html#introduction>\n",
    "* Numpy numerical array library: <https://docs.scipy.org/doc/>\n",
    "* Gensim's word2vec: <https://radimrehurek.com/gensim/models/word2vec.html>\n",
    "* Bokeh interactive plots: <http://bokeh.pydata.org/en/latest/> (we provide plotting code here, but click the thumbnails for more examples to copy-paste)\n",
    "* scikit-learn ML library (aka `sklearn`): <http://scikit-learn.org/stable/documentation.html>\n",
    "* nltk NLP toolkit: <http://www.nltk.org/>\n",
    "* tutorial for processing xml in python using `lxml`: <http://lxml.de/tutorial.html> (we did this for you below, but in case you need it in the future)"
   ]
  },
  {
   "cell_type": "code",
   "execution_count": 1,
   "metadata": {
    "collapsed": false,
    "deletable": true,
    "editable": true
   },
   "outputs": [],
   "source": [
    "import numpy as np\n",
    "import os\n",
    "from random import shuffle\n",
    "import re"
   ]
  },
  {
   "cell_type": "code",
   "execution_count": 2,
   "metadata": {
    "collapsed": false,
    "deletable": true,
    "editable": true
   },
   "outputs": [
    {
     "data": {
      "text/html": [
       "\n",
       "    <div class=\"bk-root\">\n",
       "        <a href=\"http://bokeh.pydata.org\" target=\"_blank\" class=\"bk-logo bk-logo-small bk-logo-notebook\"></a>\n",
       "        <span id=\"df47038f-7fee-483c-9de6-4dd33ee559d8\">Loading BokehJS ...</span>\n",
       "    </div>"
      ]
     },
     "metadata": {},
     "output_type": "display_data"
    },
    {
     "data": {
      "application/javascript": [
       "\n",
       "(function(global) {\n",
       "  function now() {\n",
       "    return new Date();\n",
       "  }\n",
       "\n",
       "  var force = true;\n",
       "\n",
       "  if (typeof (window._bokeh_onload_callbacks) === \"undefined\" || force === true) {\n",
       "    window._bokeh_onload_callbacks = [];\n",
       "    window._bokeh_is_loading = undefined;\n",
       "  }\n",
       "\n",
       "\n",
       "  \n",
       "  if (typeof (window._bokeh_timeout) === \"undefined\" || force === true) {\n",
       "    window._bokeh_timeout = Date.now() + 5000;\n",
       "    window._bokeh_failed_load = false;\n",
       "  }\n",
       "\n",
       "  var NB_LOAD_WARNING = {'data': {'text/html':\n",
       "     \"<div style='background-color: #fdd'>\\n\"+\n",
       "     \"<p>\\n\"+\n",
       "     \"BokehJS does not appear to have successfully loaded. If loading BokehJS from CDN, this \\n\"+\n",
       "     \"may be due to a slow or bad network connection. Possible fixes:\\n\"+\n",
       "     \"</p>\\n\"+\n",
       "     \"<ul>\\n\"+\n",
       "     \"<li>re-rerun `output_notebook()` to attempt to load from CDN again, or</li>\\n\"+\n",
       "     \"<li>use INLINE resources instead, as so:</li>\\n\"+\n",
       "     \"</ul>\\n\"+\n",
       "     \"<code>\\n\"+\n",
       "     \"from bokeh.resources import INLINE\\n\"+\n",
       "     \"output_notebook(resources=INLINE)\\n\"+\n",
       "     \"</code>\\n\"+\n",
       "     \"</div>\"}};\n",
       "\n",
       "  function display_loaded() {\n",
       "    if (window.Bokeh !== undefined) {\n",
       "      var el = document.getElementById(\"df47038f-7fee-483c-9de6-4dd33ee559d8\");\n",
       "      el.textContent = \"BokehJS \" + Bokeh.version + \" successfully loaded.\";\n",
       "    } else if (Date.now() < window._bokeh_timeout) {\n",
       "      setTimeout(display_loaded, 100)\n",
       "    }\n",
       "  }\n",
       "\n",
       "  function run_callbacks() {\n",
       "    window._bokeh_onload_callbacks.forEach(function(callback) { callback() });\n",
       "    delete window._bokeh_onload_callbacks\n",
       "    console.info(\"Bokeh: all callbacks have finished\");\n",
       "  }\n",
       "\n",
       "  function load_libs(js_urls, callback) {\n",
       "    window._bokeh_onload_callbacks.push(callback);\n",
       "    if (window._bokeh_is_loading > 0) {\n",
       "      console.log(\"Bokeh: BokehJS is being loaded, scheduling callback at\", now());\n",
       "      return null;\n",
       "    }\n",
       "    if (js_urls == null || js_urls.length === 0) {\n",
       "      run_callbacks();\n",
       "      return null;\n",
       "    }\n",
       "    console.log(\"Bokeh: BokehJS not loaded, scheduling load and callback at\", now());\n",
       "    window._bokeh_is_loading = js_urls.length;\n",
       "    for (var i = 0; i < js_urls.length; i++) {\n",
       "      var url = js_urls[i];\n",
       "      var s = document.createElement('script');\n",
       "      s.src = url;\n",
       "      s.async = false;\n",
       "      s.onreadystatechange = s.onload = function() {\n",
       "        window._bokeh_is_loading--;\n",
       "        if (window._bokeh_is_loading === 0) {\n",
       "          console.log(\"Bokeh: all BokehJS libraries loaded\");\n",
       "          run_callbacks()\n",
       "        }\n",
       "      };\n",
       "      s.onerror = function() {\n",
       "        console.warn(\"failed to load library \" + url);\n",
       "      };\n",
       "      console.log(\"Bokeh: injecting script tag for BokehJS library: \", url);\n",
       "      document.getElementsByTagName(\"head\")[0].appendChild(s);\n",
       "    }\n",
       "  };var element = document.getElementById(\"df47038f-7fee-483c-9de6-4dd33ee559d8\");\n",
       "  if (element == null) {\n",
       "    console.log(\"Bokeh: ERROR: autoload.js configured with elementid 'df47038f-7fee-483c-9de6-4dd33ee559d8' but no matching script tag was found. \")\n",
       "    return false;\n",
       "  }\n",
       "\n",
       "  var js_urls = [\"https://cdn.pydata.org/bokeh/release/bokeh-0.12.5.min.js\", \"https://cdn.pydata.org/bokeh/release/bokeh-widgets-0.12.5.min.js\"];\n",
       "\n",
       "  var inline_js = [\n",
       "    function(Bokeh) {\n",
       "      Bokeh.set_log_level(\"info\");\n",
       "    },\n",
       "    \n",
       "    function(Bokeh) {\n",
       "      \n",
       "    },\n",
       "    \n",
       "    function(Bokeh) {\n",
       "      \n",
       "      document.getElementById(\"df47038f-7fee-483c-9de6-4dd33ee559d8\").textContent = \"BokehJS is loading...\";\n",
       "    },\n",
       "    function(Bokeh) {\n",
       "      console.log(\"Bokeh: injecting CSS: https://cdn.pydata.org/bokeh/release/bokeh-0.12.5.min.css\");\n",
       "      Bokeh.embed.inject_css(\"https://cdn.pydata.org/bokeh/release/bokeh-0.12.5.min.css\");\n",
       "      console.log(\"Bokeh: injecting CSS: https://cdn.pydata.org/bokeh/release/bokeh-widgets-0.12.5.min.css\");\n",
       "      Bokeh.embed.inject_css(\"https://cdn.pydata.org/bokeh/release/bokeh-widgets-0.12.5.min.css\");\n",
       "    }\n",
       "  ];\n",
       "\n",
       "  function run_inline_js() {\n",
       "    \n",
       "    if ((window.Bokeh !== undefined) || (force === true)) {\n",
       "      for (var i = 0; i < inline_js.length; i++) {\n",
       "        inline_js[i](window.Bokeh);\n",
       "      }if (force === true) {\n",
       "        display_loaded();\n",
       "      }} else if (Date.now() < window._bokeh_timeout) {\n",
       "      setTimeout(run_inline_js, 100);\n",
       "    } else if (!window._bokeh_failed_load) {\n",
       "      console.log(\"Bokeh: BokehJS failed to load within specified timeout.\");\n",
       "      window._bokeh_failed_load = true;\n",
       "    } else if (force !== true) {\n",
       "      var cell = $(document.getElementById(\"df47038f-7fee-483c-9de6-4dd33ee559d8\")).parents('.cell').data().cell;\n",
       "      cell.output_area.append_execute_result(NB_LOAD_WARNING)\n",
       "    }\n",
       "\n",
       "  }\n",
       "\n",
       "  if (window._bokeh_is_loading === 0) {\n",
       "    console.log(\"Bokeh: BokehJS loaded, going straight to plotting\");\n",
       "    run_inline_js();\n",
       "  } else {\n",
       "    load_libs(js_urls, function() {\n",
       "      console.log(\"Bokeh: BokehJS plotting callback run at\", now());\n",
       "      run_inline_js();\n",
       "    });\n",
       "  }\n",
       "}(this));"
      ]
     },
     "metadata": {},
     "output_type": "display_data"
    }
   ],
   "source": [
    "from bokeh.models import ColumnDataSource, LabelSet\n",
    "from bokeh.plotting import figure, show, output_file\n",
    "from bokeh.io import output_notebook\n",
    "output_notebook()"
   ]
  },
  {
   "cell_type": "markdown",
   "metadata": {
    "deletable": true,
    "editable": true
   },
   "source": [
    "### Part 0: Download the TED dataset"
   ]
  },
  {
   "cell_type": "code",
   "execution_count": 3,
   "metadata": {
    "collapsed": false,
    "deletable": true,
    "editable": true
   },
   "outputs": [],
   "source": [
    "import urllib\n",
    "import zipfile\n",
    "import lxml.etree"
   ]
  },
  {
   "cell_type": "code",
   "execution_count": 4,
   "metadata": {
    "collapsed": false,
    "deletable": true,
    "editable": true
   },
   "outputs": [],
   "source": [
    "# Download the dataset if it's not already there: this may take a minute as it is 75MB\n",
    "if not os.path.isfile('ted_en-20160408.zip'):\n",
    "    urllib.urlretrieve(\"https://wit3.fbk.eu/get.php?path=XML_releases/xml/ted_en-20160408.zip&filename=ted_en-20160408.zip\", filename=\"ted_en-20160408.zip\")"
   ]
  },
  {
   "cell_type": "code",
   "execution_count": 5,
   "metadata": {
    "collapsed": false,
    "deletable": true,
    "editable": true
   },
   "outputs": [],
   "source": [
    "# For now, we're only interested in the subtitle text, so let's extract that from the XML:\n",
    "with zipfile.ZipFile('ted_en-20160408.zip', 'r') as z:\n",
    "    doc = lxml.etree.parse(z.open('ted_en-20160408.xml', 'r'))\n",
    "input_text = '\\n'.join(doc.xpath('//content/text()'))\n",
    "del doc"
   ]
  },
  {
   "cell_type": "markdown",
   "metadata": {
    "deletable": true,
    "editable": true
   },
   "source": [
    "### Part 1: Preprocessing\n",
    "\n",
    "In this part, we attempt to clean up the raw subtitles a bit, so that we get only sentences. The following substring shows examples of what we're trying to get rid of. Since it's hard to define precisely what we want to get rid of, we'll just use some simple heuristics."
   ]
  },
  {
   "cell_type": "code",
   "execution_count": 6,
   "metadata": {
    "collapsed": false,
    "deletable": true,
    "editable": true,
    "scrolled": false
   },
   "outputs": [
    {
     "data": {
      "text/plain": [
       "u' baby does.\\n(Video) Hyowon Gweon: See this? (Ball squeaks) Did you see that? (Ball squeaks) Cool. See this one? (Ball squeaks) Wow.\\nLaura Schulz: Told you. (Laughs)\\n(Vide'"
      ]
     },
     "execution_count": 6,
     "metadata": {},
     "output_type": "execute_result"
    }
   ],
   "source": [
    "i = input_text.find(\"Hyowon Gweon: See this?\")\n",
    "input_text[i-20:i+150]"
   ]
  },
  {
   "cell_type": "markdown",
   "metadata": {
    "deletable": true,
    "editable": true
   },
   "source": [
    "Let's start by removing all parenthesized strings using a regex:"
   ]
  },
  {
   "cell_type": "code",
   "execution_count": 7,
   "metadata": {
    "collapsed": false,
    "deletable": true,
    "editable": true
   },
   "outputs": [],
   "source": [
    "input_text_noparens = re.sub(r'\\([^)]*\\)', '', input_text)"
   ]
  },
  {
   "cell_type": "markdown",
   "metadata": {
    "deletable": true,
    "editable": true
   },
   "source": [
    "We can verify the same location in the text is now clean as follows. We won't worry about the irregular spaces since we'll later split the text into sentences and tokenize it anyway."
   ]
  },
  {
   "cell_type": "code",
   "execution_count": 8,
   "metadata": {
    "collapsed": false,
    "deletable": true,
    "editable": true
   },
   "outputs": [
    {
     "data": {
      "text/plain": [
       "u\"hat the baby does.\\n Hyowon Gweon: See this?  Did you see that?  Cool. See this one?  Wow.\\nLaura Schulz: Told you. \\n HG: See this one?  Hey Clara, this one's for you. You \""
      ]
     },
     "execution_count": 8,
     "metadata": {},
     "output_type": "execute_result"
    }
   ],
   "source": [
    "i = input_text_noparens.find(\"Hyowon Gweon: See this?\")\n",
    "input_text_noparens[i-20:i+150]"
   ]
  },
  {
   "cell_type": "markdown",
   "metadata": {
    "deletable": true,
    "editable": true
   },
   "source": [
    "Now, let's attempt to remove speakers' names that occur at the beginning of a line, by deleting pieces of the form \"`<up to 20 characters>:`\", as shown in this example. Of course, this is an imperfect heuristic. "
   ]
  },
  {
   "cell_type": "code",
   "execution_count": 9,
   "metadata": {
    "collapsed": false,
    "deletable": true,
    "editable": true
   },
   "outputs": [
    {
     "data": {
      "text/plain": [
       "[u\"Here are two reasons companies fail: they only do more of the same, or they only do what's new\",\n",
       " u'To me the real, real solution to quality growth is figuring out the balance between two activities: exploration and exploitation',\n",
       " u' Both are necessary, but it can be too much of a good thing',\n",
       " u'Consider Facit',\n",
       " u\" I'm actually old enough to remember them\"]"
      ]
     },
     "execution_count": 9,
     "metadata": {},
     "output_type": "execute_result"
    }
   ],
   "source": [
    "sentences_strings_ted = []\n",
    "for line in input_text_noparens.split('\\n'):\n",
    "    m = re.match(r'^(?:(?P<precolon>[^:]{,20}):)?(?P<postcolon>.*)$', line)\n",
    "    sentences_strings_ted.extend(sent for sent in m.groupdict()['postcolon'].split('.') if sent)\n",
    "\n",
    "# Uncomment if you need to save some RAM: these strings are about 50MB.\n",
    "# del input_text, input_text_noparens\n",
    "\n",
    "# Let's view the first few:\n",
    "sentences_strings_ted[:5]"
   ]
  },
  {
   "cell_type": "markdown",
   "metadata": {
    "deletable": true,
    "editable": true
   },
   "source": [
    "Now that we have sentences, we're ready to tokenize each of them into words. This tokenization is imperfect, of course. For instance, how many tokens is \"can't\", and where/how do we split it? We'll take the simplest naive approach of splitting on spaces. Before splitting, we remove non-alphanumeric characters, such as punctuation. You may want to consider the following question: why do we replace these characters with spaces rather than deleting them? Think of a case where this yields a different answer."
   ]
  },
  {
   "cell_type": "code",
   "execution_count": 10,
   "metadata": {
    "collapsed": false,
    "deletable": true,
    "editable": true
   },
   "outputs": [],
   "source": [
    "sentences_ted = []\n",
    "for sent_str in sentences_strings_ted:\n",
    "    tokens = re.sub(r\"[^a-z0-9]+\", \" \", sent_str.lower()).split()\n",
    "    sentences_ted.append(tokens)"
   ]
  },
  {
   "cell_type": "markdown",
   "metadata": {
    "deletable": true,
    "editable": true
   },
   "source": [
    "Two sample processed sentences:"
   ]
  },
  {
   "cell_type": "code",
   "execution_count": 11,
   "metadata": {
    "collapsed": false,
    "deletable": true,
    "editable": true
   },
   "outputs": [
    {
     "data": {
      "text/plain": [
       "266694"
      ]
     },
     "execution_count": 11,
     "metadata": {},
     "output_type": "execute_result"
    }
   ],
   "source": [
    "len(sentences_ted)"
   ]
  },
  {
   "cell_type": "code",
   "execution_count": 12,
   "metadata": {
    "collapsed": false,
    "deletable": true,
    "editable": true
   },
   "outputs": [
    {
     "name": "stdout",
     "output_type": "stream",
     "text": [
      "[u'here', u'are', u'two', u'reasons', u'companies', u'fail', u'they', u'only', u'do', u'more', u'of', u'the', u'same', u'or', u'they', u'only', u'do', u'what', u's', u'new']\n",
      "[u'to', u'me', u'the', u'real', u'real', u'solution', u'to', u'quality', u'growth', u'is', u'figuring', u'out', u'the', u'balance', u'between', u'two', u'activities', u'exploration', u'and', u'exploitation']\n"
     ]
    }
   ],
   "source": [
    "print(sentences_ted[0])\n",
    "print(sentences_ted[1])"
   ]
  },
  {
   "cell_type": "markdown",
   "metadata": {
    "deletable": true,
    "editable": true
   },
   "source": [
    "### Part 2: Word Frequencies"
   ]
  },
  {
   "cell_type": "markdown",
   "metadata": {
    "deletable": true,
    "editable": true
   },
   "source": [
    "If you store the counts of the top 1000 words in a list called `counts_ted_top1000`, the code below will plot the histogram requested in the writeup."
   ]
  },
  {
   "cell_type": "code",
   "execution_count": 13,
   "metadata": {
    "collapsed": false,
    "deletable": true,
    "editable": true
   },
   "outputs": [
    {
     "name": "stdout",
     "output_type": "stream",
     "text": [
      "Vocabulary size 54454\n",
      "saving sentences\n"
     ]
    }
   ],
   "source": [
    "words = {}\n",
    "for sent in sentences_ted:\n",
    "    for w in sent:\n",
    "        words[w] = words.get(w, 0) + 1\n",
    "\n",
    "print \"Vocabulary size %d\" % len(words)\n",
    "\n",
    "print \"saving sentences\"\n",
    "with open(\"ted_sentences_clean.txt\", \"w\") as outfile:\n",
    "    for sent in sentences_ted:\n",
    "        outfile.write(\"%s\\n\" % \" \".join(sent))\n",
    "\n",
    "counts_ted_top1000 = [words[w] for w in sorted(words, key=words.__getitem__, reverse=True)][:1000]\n",
    "words_top_ted = [w for w in sorted(words, key=words.__getitem__, reverse=True)][:1000]\n"
   ]
  },
  {
   "cell_type": "markdown",
   "metadata": {
    "deletable": true,
    "editable": true
   },
   "source": [
    "Plot distribution of top-1000 words"
   ]
  },
  {
   "cell_type": "code",
   "execution_count": 14,
   "metadata": {
    "collapsed": false,
    "deletable": true,
    "editable": true
   },
   "outputs": [
    {
     "data": {
      "text/html": [
       "\n",
       "\n",
       "    <div class=\"bk-root\">\n",
       "        <div class=\"bk-plotdiv\" id=\"6af38035-6356-4e14-9be7-da9c7e577dd3\"></div>\n",
       "    </div>\n",
       "<script type=\"text/javascript\">\n",
       "  \n",
       "  (function(global) {\n",
       "    function now() {\n",
       "      return new Date();\n",
       "    }\n",
       "  \n",
       "    var force = false;\n",
       "  \n",
       "    if (typeof (window._bokeh_onload_callbacks) === \"undefined\" || force === true) {\n",
       "      window._bokeh_onload_callbacks = [];\n",
       "      window._bokeh_is_loading = undefined;\n",
       "    }\n",
       "  \n",
       "  \n",
       "    \n",
       "    if (typeof (window._bokeh_timeout) === \"undefined\" || force === true) {\n",
       "      window._bokeh_timeout = Date.now() + 0;\n",
       "      window._bokeh_failed_load = false;\n",
       "    }\n",
       "  \n",
       "    var NB_LOAD_WARNING = {'data': {'text/html':\n",
       "       \"<div style='background-color: #fdd'>\\n\"+\n",
       "       \"<p>\\n\"+\n",
       "       \"BokehJS does not appear to have successfully loaded. If loading BokehJS from CDN, this \\n\"+\n",
       "       \"may be due to a slow or bad network connection. Possible fixes:\\n\"+\n",
       "       \"</p>\\n\"+\n",
       "       \"<ul>\\n\"+\n",
       "       \"<li>re-rerun `output_notebook()` to attempt to load from CDN again, or</li>\\n\"+\n",
       "       \"<li>use INLINE resources instead, as so:</li>\\n\"+\n",
       "       \"</ul>\\n\"+\n",
       "       \"<code>\\n\"+\n",
       "       \"from bokeh.resources import INLINE\\n\"+\n",
       "       \"output_notebook(resources=INLINE)\\n\"+\n",
       "       \"</code>\\n\"+\n",
       "       \"</div>\"}};\n",
       "  \n",
       "    function display_loaded() {\n",
       "      if (window.Bokeh !== undefined) {\n",
       "        var el = document.getElementById(\"6af38035-6356-4e14-9be7-da9c7e577dd3\");\n",
       "        el.textContent = \"BokehJS \" + Bokeh.version + \" successfully loaded.\";\n",
       "      } else if (Date.now() < window._bokeh_timeout) {\n",
       "        setTimeout(display_loaded, 100)\n",
       "      }\n",
       "    }\n",
       "  \n",
       "    function run_callbacks() {\n",
       "      window._bokeh_onload_callbacks.forEach(function(callback) { callback() });\n",
       "      delete window._bokeh_onload_callbacks\n",
       "      console.info(\"Bokeh: all callbacks have finished\");\n",
       "    }\n",
       "  \n",
       "    function load_libs(js_urls, callback) {\n",
       "      window._bokeh_onload_callbacks.push(callback);\n",
       "      if (window._bokeh_is_loading > 0) {\n",
       "        console.log(\"Bokeh: BokehJS is being loaded, scheduling callback at\", now());\n",
       "        return null;\n",
       "      }\n",
       "      if (js_urls == null || js_urls.length === 0) {\n",
       "        run_callbacks();\n",
       "        return null;\n",
       "      }\n",
       "      console.log(\"Bokeh: BokehJS not loaded, scheduling load and callback at\", now());\n",
       "      window._bokeh_is_loading = js_urls.length;\n",
       "      for (var i = 0; i < js_urls.length; i++) {\n",
       "        var url = js_urls[i];\n",
       "        var s = document.createElement('script');\n",
       "        s.src = url;\n",
       "        s.async = false;\n",
       "        s.onreadystatechange = s.onload = function() {\n",
       "          window._bokeh_is_loading--;\n",
       "          if (window._bokeh_is_loading === 0) {\n",
       "            console.log(\"Bokeh: all BokehJS libraries loaded\");\n",
       "            run_callbacks()\n",
       "          }\n",
       "        };\n",
       "        s.onerror = function() {\n",
       "          console.warn(\"failed to load library \" + url);\n",
       "        };\n",
       "        console.log(\"Bokeh: injecting script tag for BokehJS library: \", url);\n",
       "        document.getElementsByTagName(\"head\")[0].appendChild(s);\n",
       "      }\n",
       "    };var element = document.getElementById(\"6af38035-6356-4e14-9be7-da9c7e577dd3\");\n",
       "    if (element == null) {\n",
       "      console.log(\"Bokeh: ERROR: autoload.js configured with elementid '6af38035-6356-4e14-9be7-da9c7e577dd3' but no matching script tag was found. \")\n",
       "      return false;\n",
       "    }\n",
       "  \n",
       "    var js_urls = [];\n",
       "  \n",
       "    var inline_js = [\n",
       "      function(Bokeh) {\n",
       "        (function() {\n",
       "          var fn = function() {\n",
       "            var docs_json = {\"b8e34f83-a4ae-4b6b-a9b4-aed6ad9722f6\":{\"roots\":{\"references\":[{\"attributes\":{},\"id\":\"9c29bb87-d75e-4f83-8439-bdc38a00b473\",\"type\":\"BasicTickFormatter\"},{\"attributes\":{\"below\":[{\"id\":\"7e58ebb5-6c73-45bb-a9bd-a58a1e603be3\",\"type\":\"LinearAxis\"}],\"left\":[{\"id\":\"c13a15da-db49-4f9c-ac4c-be223a34bd3b\",\"type\":\"LinearAxis\"}],\"renderers\":[{\"id\":\"7e58ebb5-6c73-45bb-a9bd-a58a1e603be3\",\"type\":\"LinearAxis\"},{\"id\":\"981a7157-0e21-4fbc-8157-d236f80fc048\",\"type\":\"Grid\"},{\"id\":\"c13a15da-db49-4f9c-ac4c-be223a34bd3b\",\"type\":\"LinearAxis\"},{\"id\":\"da1216c3-fdb2-4d44-93bf-18e655eb5b62\",\"type\":\"Grid\"},{\"id\":\"6b2a4b2f-2354-4b73-8b87-ed81ca42223d\",\"type\":\"GlyphRenderer\"}],\"title\":{\"id\":\"cd2cb934-389a-4d98-8cf4-efa30f64b5cb\",\"type\":\"Title\"},\"tool_events\":{\"id\":\"cb59b14e-4613-4336-8d54-51ccc98d9609\",\"type\":\"ToolEvents\"},\"toolbar\":{\"id\":\"85c4140f-1498-4049-b5eb-ac06f18960e7\",\"type\":\"Toolbar\"},\"toolbar_location\":\"above\",\"x_range\":{\"id\":\"459f272f-0fcc-4a97-9df5-5f385683e570\",\"type\":\"DataRange1d\"},\"y_range\":{\"id\":\"a8e80cae-c457-4cf1-b585-2fc25c64a37c\",\"type\":\"DataRange1d\"}},\"id\":\"3a2459f1-58dd-42bb-a1d2-c8a2b90d6189\",\"subtype\":\"Figure\",\"type\":\"Plot\"},{\"attributes\":{\"bottom\":{\"value\":0},\"fill_color\":{\"value\":\"#1f77b4\"},\"left\":{\"field\":\"left\"},\"line_color\":{\"value\":\"#555555\"},\"right\":{\"field\":\"right\"},\"top\":{\"field\":\"top\"}},\"id\":\"af90691c-e202-4945-9329-2ad5bddfb72d\",\"type\":\"Quad\"},{\"attributes\":{\"formatter\":{\"id\":\"1dcd923d-b8ad-4e7b-b1d5-a981296fec13\",\"type\":\"BasicTickFormatter\"},\"plot\":{\"id\":\"3a2459f1-58dd-42bb-a1d2-c8a2b90d6189\",\"subtype\":\"Figure\",\"type\":\"Plot\"},\"ticker\":{\"id\":\"2f637722-97fe-4d60-9087-e623b7bb1b44\",\"type\":\"BasicTicker\"}},\"id\":\"c13a15da-db49-4f9c-ac4c-be223a34bd3b\",\"type\":\"LinearAxis\"},{\"attributes\":{\"active_drag\":\"auto\",\"active_scroll\":\"auto\",\"active_tap\":\"auto\",\"tools\":[{\"id\":\"ae4b6b5a-eee5-47dd-9bc6-a90f61fa7c81\",\"type\":\"PanTool\"},{\"id\":\"8cfdc4ed-a57b-475d-9244-8e7ac082eee1\",\"type\":\"WheelZoomTool\"},{\"id\":\"b49946d2-7a9c-4002-ad99-a19c8f41b10c\",\"type\":\"ResetTool\"},{\"id\":\"d3807409-19f4-49e1-af6c-a275579ea3ee\",\"type\":\"SaveTool\"}]},\"id\":\"85c4140f-1498-4049-b5eb-ac06f18960e7\",\"type\":\"Toolbar\"},{\"attributes\":{\"dimension\":1,\"plot\":{\"id\":\"3a2459f1-58dd-42bb-a1d2-c8a2b90d6189\",\"subtype\":\"Figure\",\"type\":\"Plot\"},\"ticker\":{\"id\":\"2f637722-97fe-4d60-9087-e623b7bb1b44\",\"type\":\"BasicTicker\"}},\"id\":\"da1216c3-fdb2-4d44-93bf-18e655eb5b62\",\"type\":\"Grid\"},{\"attributes\":{\"data_source\":{\"id\":\"3edb3e7f-57e2-4477-a3c0-c487a45497eb\",\"type\":\"ColumnDataSource\"},\"glyph\":{\"id\":\"af90691c-e202-4945-9329-2ad5bddfb72d\",\"type\":\"Quad\"},\"hover_glyph\":null,\"muted_glyph\":null,\"nonselection_glyph\":{\"id\":\"206f8200-ea79-4155-a4e7-4077341b1894\",\"type\":\"Quad\"},\"selection_glyph\":null},\"id\":\"6b2a4b2f-2354-4b73-8b87-ed81ca42223d\",\"type\":\"GlyphRenderer\"},{\"attributes\":{\"plot\":{\"id\":\"3a2459f1-58dd-42bb-a1d2-c8a2b90d6189\",\"subtype\":\"Figure\",\"type\":\"Plot\"}},\"id\":\"ae4b6b5a-eee5-47dd-9bc6-a90f61fa7c81\",\"type\":\"PanTool\"},{\"attributes\":{\"callback\":null},\"id\":\"a8e80cae-c457-4cf1-b585-2fc25c64a37c\",\"type\":\"DataRange1d\"},{\"attributes\":{\"callback\":null},\"id\":\"459f272f-0fcc-4a97-9df5-5f385683e570\",\"type\":\"DataRange1d\"},{\"attributes\":{\"plot\":{\"id\":\"3a2459f1-58dd-42bb-a1d2-c8a2b90d6189\",\"subtype\":\"Figure\",\"type\":\"Plot\"}},\"id\":\"b49946d2-7a9c-4002-ad99-a19c8f41b10c\",\"type\":\"ResetTool\"},{\"attributes\":{\"plot\":null,\"text\":\"Top-1000 words distribution\"},\"id\":\"cd2cb934-389a-4d98-8cf4-efa30f64b5cb\",\"type\":\"Title\"},{\"attributes\":{},\"id\":\"2f637722-97fe-4d60-9087-e623b7bb1b44\",\"type\":\"BasicTicker\"},{\"attributes\":{\"plot\":{\"id\":\"3a2459f1-58dd-42bb-a1d2-c8a2b90d6189\",\"subtype\":\"Figure\",\"type\":\"Plot\"},\"ticker\":{\"id\":\"134af5a5-9d91-4a88-a115-9ca0d5fc1201\",\"type\":\"BasicTicker\"}},\"id\":\"981a7157-0e21-4fbc-8157-d236f80fc048\",\"type\":\"Grid\"},{\"attributes\":{},\"id\":\"134af5a5-9d91-4a88-a115-9ca0d5fc1201\",\"type\":\"BasicTicker\"},{\"attributes\":{\"bottom\":{\"value\":0},\"fill_alpha\":{\"value\":0.1},\"fill_color\":{\"value\":\"#1f77b4\"},\"left\":{\"field\":\"left\"},\"line_alpha\":{\"value\":0.1},\"line_color\":{\"value\":\"#1f77b4\"},\"right\":{\"field\":\"right\"},\"top\":{\"field\":\"top\"}},\"id\":\"206f8200-ea79-4155-a4e7-4077341b1894\",\"type\":\"Quad\"},{\"attributes\":{\"callback\":null,\"column_names\":[\"top\",\"right\",\"left\"],\"data\":{\"left\":{\"__ndarray__\":\"AAAAAABAeUB7FK5H4VqjQHsUrkfhxrFAuB6F61HguUB7FK5H4fzAQJqZmZmZCcVAuB6F61EWyUDXo3A9CiPNQHsUrkfhl9BACtejcD2e0kCamZmZmaTUQClcj8L1qtZAuB6F61Gx2EBI4XoUrrfaQNejcD0KvtxAZ2ZmZmbE3kB7FK5HYWXgQMP1KFyPaOFACtejcL1r4kBSuB6F627jQJqZmZkZcuRA4XoUrkd15UApXI/CdXjmQHE9Cteje+dAuB6F69F+6EAAAAAAAILpQEjhehQuhepAkML1KFyI60DXo3A9iovsQB+F61G4ju1AZ2ZmZuaR7kCuR+F6FJXvQHsUrkchTPBAH4XrUbjN8EDD9ShcT0/xQGdmZmbm0PFACtejcH1S8kCuR+F6FNTyQFK4HoWrVfNA9ihcj0LX80CamZmZ2Vj0QD4K16Nw2vRA4XoUrgdc9UCF61G4nt31QClcj8I1X/ZAzczMzMzg9kBxPQrXY2L3QBWuR+H64/dAuB6F65Fl+EBcj8L1KOf4QAAAAADAaPlApHA9Clfq+UBI4XoU7mv6QOxRuB6F7fpAkML1KBxv+0AzMzMzs/D7QNejcD1KcvxAexSuR+Hz/EAfhetReHX9QMP1KFwP9/1AZ2ZmZqZ4/kAK16NwPfr+QK5H4XrUe/9AUrgehWv9/0B7FK5HgT8AQc3MzMxMgABBH4XrURjBAEFxPQrX4wEBQcP1KFyvQgFBFa5H4XqDAUFnZmZmRsQBQbgehesRBQJBCtejcN1FAkFcj8L1qIYCQa5H4Xp0xwJBAAAAAEAIA0FSuB6FC0kDQaRwPQrXiQNB9ihcj6LKA0FI4XoUbgsEQZqZmZk5TARB7FG4HgWNBEE+Ctej0M0EQZDC9SicDgVB4XoUrmdPBUEzMzMzM5AFQYXrUbj+0AVB16NwPcoRBkEpXI/ClVIGQXsUrkdhkwZBzczMzCzUBkEfhetR+BQHQXE9CtfDVQdBw/UoXI+WB0EVrkfhWtcHQWdmZmYmGAhBuB6F6/FYCEEK16NwvZkIQVyPwvWI2ghBrkfhelQbCUE=\",\"dtype\":\"float64\",\"shape\":[100]},\"right\":{\"__ndarray__\":\"exSuR+Fao0B7FK5H4caxQLgehetR4LlAexSuR+H8wECamZmZmQnFQLgehetRFslA16NwPQojzUB7FK5H4ZfQQArXo3A9ntJAmpmZmZmk1EApXI/C9arWQLgehetRsdhASOF6FK632kDXo3A9Cr7cQGdmZmZmxN5AexSuR2Fl4EDD9Shcj2jhQArXo3C9a+JAUrgehetu40CamZmZGXLkQOF6FK5HdeVAKVyPwnV45kBxPQrXo3vnQLgehevRfuhAAAAAAACC6UBI4XoULoXqQJDC9ShciOtA16NwPYqL7EAfhetRuI7tQGdmZmbmke5ArkfhehSV70B7FK5HIUzwQB+F61G4zfBAw/UoXE9P8UBnZmZm5tDxQArXo3B9UvJArkfhehTU8kBSuB6Fq1XzQPYoXI9C1/NAmpmZmdlY9EA+CtejcNr0QOF6FK4HXPVAhetRuJ7d9UApXI/CNV/2QM3MzMzM4PZAcT0K12Ni90AVrkfh+uP3QLgeheuRZfhAXI/C9Sjn+EAAAAAAwGj5QKRwPQpX6vlASOF6FO5r+kDsUbgehe36QJDC9Sgcb/tAMzMzM7Pw+0DXo3A9SnL8QHsUrkfh8/xAH4XrUXh1/UDD9ShcD/f9QGdmZmameP5ACtejcD36/kCuR+F61Hv/QFK4HoVr/f9AexSuR4E/AEHNzMzMTIAAQR+F61EYwQBBcT0K1+MBAUHD9Shcr0IBQRWuR+F6gwFBZ2ZmZkbEAUG4HoXrEQUCQQrXo3DdRQJBXI/C9aiGAkGuR+F6dMcCQQAAAABACANBUrgehQtJA0GkcD0K14kDQfYoXI+iygNBSOF6FG4LBEGamZmZOUwEQexRuB4FjQRBPgrXo9DNBEGQwvUonA4FQeF6FK5nTwVBMzMzMzOQBUGF61G4/tAFQdejcD3KEQZBKVyPwpVSBkF7FK5HYZMGQc3MzMws1AZBH4XrUfgUB0FxPQrXw1UHQcP1KFyPlgdBFa5H4VrXB0FnZmZmJhgIQbgehevxWAhBCtejcL2ZCEFcj8L1iNoIQa5H4XpUGwlBAAAAACBcCUE=\",\"dtype\":\"float64\",\"shape\":[100]},\"top\":[807,69,28,18,17,11,9,4,6,4,2,2,4,1,2,1,0,1,0,0,0,0,0,1,0,0,0,1,0,0,1,0,1,0,1,1,0,1,0,1,0,0,0,0,0,1,0,0,0,0,1,0,0,0,0,1,0,0,0,0,1,0,0,0,0,0,0,0,0,0,0,1,0,0,0,0,0,0,0,0,0,0,0,0,0,0,0,0,0,0,0,0,0,0,0,0,0,0,0,1]}},\"id\":\"3edb3e7f-57e2-4477-a3c0-c487a45497eb\",\"type\":\"ColumnDataSource\"},{\"attributes\":{},\"id\":\"cb59b14e-4613-4336-8d54-51ccc98d9609\",\"type\":\"ToolEvents\"},{\"attributes\":{},\"id\":\"1dcd923d-b8ad-4e7b-b1d5-a981296fec13\",\"type\":\"BasicTickFormatter\"},{\"attributes\":{\"formatter\":{\"id\":\"9c29bb87-d75e-4f83-8439-bdc38a00b473\",\"type\":\"BasicTickFormatter\"},\"plot\":{\"id\":\"3a2459f1-58dd-42bb-a1d2-c8a2b90d6189\",\"subtype\":\"Figure\",\"type\":\"Plot\"},\"ticker\":{\"id\":\"134af5a5-9d91-4a88-a115-9ca0d5fc1201\",\"type\":\"BasicTicker\"}},\"id\":\"7e58ebb5-6c73-45bb-a9bd-a58a1e603be3\",\"type\":\"LinearAxis\"},{\"attributes\":{\"plot\":{\"id\":\"3a2459f1-58dd-42bb-a1d2-c8a2b90d6189\",\"subtype\":\"Figure\",\"type\":\"Plot\"}},\"id\":\"8cfdc4ed-a57b-475d-9244-8e7ac082eee1\",\"type\":\"WheelZoomTool\"},{\"attributes\":{\"plot\":{\"id\":\"3a2459f1-58dd-42bb-a1d2-c8a2b90d6189\",\"subtype\":\"Figure\",\"type\":\"Plot\"}},\"id\":\"d3807409-19f4-49e1-af6c-a275579ea3ee\",\"type\":\"SaveTool\"}],\"root_ids\":[\"3a2459f1-58dd-42bb-a1d2-c8a2b90d6189\"]},\"title\":\"Bokeh Application\",\"version\":\"0.12.5\"}};\n",
       "            var render_items = [{\"docid\":\"b8e34f83-a4ae-4b6b-a9b4-aed6ad9722f6\",\"elementid\":\"6af38035-6356-4e14-9be7-da9c7e577dd3\",\"modelid\":\"3a2459f1-58dd-42bb-a1d2-c8a2b90d6189\"}];\n",
       "            \n",
       "            Bokeh.embed.embed_items(docs_json, render_items);\n",
       "          };\n",
       "          if (document.readyState != \"loading\") fn();\n",
       "          else document.addEventListener(\"DOMContentLoaded\", fn);\n",
       "        })();\n",
       "      },\n",
       "      function(Bokeh) {\n",
       "      }\n",
       "    ];\n",
       "  \n",
       "    function run_inline_js() {\n",
       "      \n",
       "      if ((window.Bokeh !== undefined) || (force === true)) {\n",
       "        for (var i = 0; i < inline_js.length; i++) {\n",
       "          inline_js[i](window.Bokeh);\n",
       "        }if (force === true) {\n",
       "          display_loaded();\n",
       "        }} else if (Date.now() < window._bokeh_timeout) {\n",
       "        setTimeout(run_inline_js, 100);\n",
       "      } else if (!window._bokeh_failed_load) {\n",
       "        console.log(\"Bokeh: BokehJS failed to load within specified timeout.\");\n",
       "        window._bokeh_failed_load = true;\n",
       "      } else if (force !== true) {\n",
       "        var cell = $(document.getElementById(\"6af38035-6356-4e14-9be7-da9c7e577dd3\")).parents('.cell').data().cell;\n",
       "        cell.output_area.append_execute_result(NB_LOAD_WARNING)\n",
       "      }\n",
       "  \n",
       "    }\n",
       "  \n",
       "    if (window._bokeh_is_loading === 0) {\n",
       "      console.log(\"Bokeh: BokehJS loaded, going straight to plotting\");\n",
       "      run_inline_js();\n",
       "    } else {\n",
       "      load_libs(js_urls, function() {\n",
       "        console.log(\"Bokeh: BokehJS plotting callback run at\", now());\n",
       "        run_inline_js();\n",
       "      });\n",
       "    }\n",
       "  }(this));\n",
       "</script>"
      ]
     },
     "metadata": {},
     "output_type": "display_data"
    }
   ],
   "source": [
    "hist, edges = np.histogram(counts_ted_top1000, density=False, bins=100, normed=True)\n",
    "\n",
    "p = figure(tools=\"pan,wheel_zoom,reset,save\",\n",
    "           toolbar_location=\"above\",\n",
    "           title=\"Top-1000 words distribution\")\n",
    "p.quad(top=hist, bottom=0, left=edges[:-1], right=edges[1:], line_color=\"#555555\")\n",
    "show(p)"
   ]
  },
  {
   "cell_type": "markdown",
   "metadata": {
    "deletable": true,
    "editable": true
   },
   "source": [
    "### Part 3: Train Word2Vec"
   ]
  },
  {
   "cell_type": "code",
   "execution_count": 15,
   "metadata": {
    "collapsed": false,
    "deletable": true,
    "editable": true
   },
   "outputs": [
    {
     "name": "stdout",
     "output_type": "stream",
     "text": [
      "1\n"
     ]
    }
   ],
   "source": [
    "from gensim.models import Word2Vec\n",
    "from gensim.models.word2vec import FAST_VERSION\n",
    "print FAST_VERSION"
   ]
  },
  {
   "cell_type": "code",
   "execution_count": 16,
   "metadata": {
    "collapsed": false,
    "deletable": true,
    "editable": true
   },
   "outputs": [],
   "source": [
    "model = Word2Vec(sentences_ted, size=100, window=5, min_count=5, workers=4)\n"
   ]
  },
  {
   "cell_type": "markdown",
   "metadata": {
    "deletable": true,
    "editable": true
   },
   "source": [
    "### Part 4: Ted Learnt Representations"
   ]
  },
  {
   "cell_type": "markdown",
   "metadata": {
    "deletable": true,
    "editable": true
   },
   "source": [
    "Finding similar words: (see gensim docs for more functionality of `most_similar`)"
   ]
  },
  {
   "cell_type": "code",
   "execution_count": 17,
   "metadata": {
    "collapsed": false,
    "deletable": true,
    "editable": true
   },
   "outputs": [
    {
     "data": {
      "text/plain": [
       "[(u'woman', 0.8585164546966553),\n",
       " (u'guy', 0.8051151037216187),\n",
       " (u'lady', 0.7697586417198181),\n",
       " (u'girl', 0.7535442113876343),\n",
       " (u'boy', 0.7469247579574585),\n",
       " (u'gentleman', 0.7374776601791382),\n",
       " (u'soldier', 0.7293407320976257),\n",
       " (u'kid', 0.6883457899093628),\n",
       " (u'poet', 0.6800919771194458),\n",
       " (u'person', 0.6622506380081177)]"
      ]
     },
     "execution_count": 17,
     "metadata": {},
     "output_type": "execute_result"
    }
   ],
   "source": [
    "model_ted = model\n",
    "model_ted.most_similar(\"man\")"
   ]
  },
  {
   "cell_type": "code",
   "execution_count": 18,
   "metadata": {
    "collapsed": false,
    "deletable": true,
    "editable": true
   },
   "outputs": [
    {
     "data": {
      "text/plain": [
       "[(u'machine', 0.733391523361206),\n",
       " (u'software', 0.7273755073547363),\n",
       " (u'device', 0.7126840949058533),\n",
       " (u'robot', 0.7048458456993103),\n",
       " (u'3d', 0.6750837564468384),\n",
       " (u'camera', 0.6712260842323303),\n",
       " (u'program', 0.6509578227996826),\n",
       " (u'mechanical', 0.6488150358200073),\n",
       " (u'chip', 0.6467218399047852),\n",
       " (u'interface', 0.6295874714851379)]"
      ]
     },
     "execution_count": 18,
     "metadata": {},
     "output_type": "execute_result"
    }
   ],
   "source": [
    "model_ted.most_similar(\"computer\")"
   ]
  },
  {
   "cell_type": "code",
   "execution_count": null,
   "metadata": {
    "collapsed": true,
    "deletable": true,
    "editable": true
   },
   "outputs": [],
   "source": []
  },
  {
   "cell_type": "markdown",
   "metadata": {
    "deletable": true,
    "editable": true
   },
   "source": [
    "#### t-SNE visualization\n",
    "To use the t-SNE code below, first put a list of the top 1000 words (as strings) into a variable `words_top_ted`. The following code gets the corresponding vectors from the model, assuming it's called `model_ted`:"
   ]
  },
  {
   "cell_type": "code",
   "execution_count": 19,
   "metadata": {
    "collapsed": false,
    "deletable": true,
    "editable": true
   },
   "outputs": [
    {
     "name": "stdout",
     "output_type": "stream",
     "text": [
      "[u'the', u'and', u'to', u'of', u'a', u'that', u'i', u'in', u'it', u'you']\n"
     ]
    }
   ],
   "source": [
    "# This assumes words_top_ted is a list of strings, the top 1000 words\n",
    "words_top_vec_ted = model_ted[words_top_ted]\n",
    "\n",
    "print words_top_ted[:10]"
   ]
  },
  {
   "cell_type": "code",
   "execution_count": 20,
   "metadata": {
    "collapsed": false,
    "deletable": true,
    "editable": true
   },
   "outputs": [],
   "source": [
    "import sklearn\n",
    "from sklearn.manifold import TSNE\n",
    "tsne = TSNE(n_components=2, random_state=0)\n",
    "words_top_ted_tsne = tsne.fit_transform(words_top_vec_ted)"
   ]
  },
  {
   "cell_type": "code",
   "execution_count": 21,
   "metadata": {
    "collapsed": false,
    "deletable": true,
    "editable": true
   },
   "outputs": [
    {
     "data": {
      "text/html": [
       "\n",
       "\n",
       "    <div class=\"bk-root\">\n",
       "        <div class=\"bk-plotdiv\" id=\"60a050ac-73b2-44d0-acc9-50246da7f908\"></div>\n",
       "    </div>\n",
       "<script type=\"text/javascript\">\n",
       "  \n",
       "  (function(global) {\n",
       "    function now() {\n",
       "      return new Date();\n",
       "    }\n",
       "  \n",
       "    var force = false;\n",
       "  \n",
       "    if (typeof (window._bokeh_onload_callbacks) === \"undefined\" || force === true) {\n",
       "      window._bokeh_onload_callbacks = [];\n",
       "      window._bokeh_is_loading = undefined;\n",
       "    }\n",
       "  \n",
       "  \n",
       "    \n",
       "    if (typeof (window._bokeh_timeout) === \"undefined\" || force === true) {\n",
       "      window._bokeh_timeout = Date.now() + 0;\n",
       "      window._bokeh_failed_load = false;\n",
       "    }\n",
       "  \n",
       "    var NB_LOAD_WARNING = {'data': {'text/html':\n",
       "       \"<div style='background-color: #fdd'>\\n\"+\n",
       "       \"<p>\\n\"+\n",
       "       \"BokehJS does not appear to have successfully loaded. If loading BokehJS from CDN, this \\n\"+\n",
       "       \"may be due to a slow or bad network connection. Possible fixes:\\n\"+\n",
       "       \"</p>\\n\"+\n",
       "       \"<ul>\\n\"+\n",
       "       \"<li>re-rerun `output_notebook()` to attempt to load from CDN again, or</li>\\n\"+\n",
       "       \"<li>use INLINE resources instead, as so:</li>\\n\"+\n",
       "       \"</ul>\\n\"+\n",
       "       \"<code>\\n\"+\n",
       "       \"from bokeh.resources import INLINE\\n\"+\n",
       "       \"output_notebook(resources=INLINE)\\n\"+\n",
       "       \"</code>\\n\"+\n",
       "       \"</div>\"}};\n",
       "  \n",
       "    function display_loaded() {\n",
       "      if (window.Bokeh !== undefined) {\n",
       "        var el = document.getElementById(\"60a050ac-73b2-44d0-acc9-50246da7f908\");\n",
       "        el.textContent = \"BokehJS \" + Bokeh.version + \" successfully loaded.\";\n",
       "      } else if (Date.now() < window._bokeh_timeout) {\n",
       "        setTimeout(display_loaded, 100)\n",
       "      }\n",
       "    }\n",
       "  \n",
       "    function run_callbacks() {\n",
       "      window._bokeh_onload_callbacks.forEach(function(callback) { callback() });\n",
       "      delete window._bokeh_onload_callbacks\n",
       "      console.info(\"Bokeh: all callbacks have finished\");\n",
       "    }\n",
       "  \n",
       "    function load_libs(js_urls, callback) {\n",
       "      window._bokeh_onload_callbacks.push(callback);\n",
       "      if (window._bokeh_is_loading > 0) {\n",
       "        console.log(\"Bokeh: BokehJS is being loaded, scheduling callback at\", now());\n",
       "        return null;\n",
       "      }\n",
       "      if (js_urls == null || js_urls.length === 0) {\n",
       "        run_callbacks();\n",
       "        return null;\n",
       "      }\n",
       "      console.log(\"Bokeh: BokehJS not loaded, scheduling load and callback at\", now());\n",
       "      window._bokeh_is_loading = js_urls.length;\n",
       "      for (var i = 0; i < js_urls.length; i++) {\n",
       "        var url = js_urls[i];\n",
       "        var s = document.createElement('script');\n",
       "        s.src = url;\n",
       "        s.async = false;\n",
       "        s.onreadystatechange = s.onload = function() {\n",
       "          window._bokeh_is_loading--;\n",
       "          if (window._bokeh_is_loading === 0) {\n",
       "            console.log(\"Bokeh: all BokehJS libraries loaded\");\n",
       "            run_callbacks()\n",
       "          }\n",
       "        };\n",
       "        s.onerror = function() {\n",
       "          console.warn(\"failed to load library \" + url);\n",
       "        };\n",
       "        console.log(\"Bokeh: injecting script tag for BokehJS library: \", url);\n",
       "        document.getElementsByTagName(\"head\")[0].appendChild(s);\n",
       "      }\n",
       "    };var element = document.getElementById(\"60a050ac-73b2-44d0-acc9-50246da7f908\");\n",
       "    if (element == null) {\n",
       "      console.log(\"Bokeh: ERROR: autoload.js configured with elementid '60a050ac-73b2-44d0-acc9-50246da7f908' but no matching script tag was found. \")\n",
       "      return false;\n",
       "    }\n",
       "  \n",
       "    var js_urls = [];\n",
       "  \n",
       "    var inline_js = [\n",
       "      function(Bokeh) {\n",
       "        (function() {\n",
       "          var fn = function() {\n",
       "            var docs_json = {\"2d3f69a7-0c8a-44de-919d-687e6c8ecc35\":{\"roots\":{\"references\":[{\"attributes\":{\"active_drag\":\"auto\",\"active_scroll\":\"auto\",\"active_tap\":\"auto\",\"tools\":[{\"id\":\"3600ef0c-7f56-4316-8cd6-eb96492d112d\",\"type\":\"PanTool\"},{\"id\":\"edce98cc-fe85-4560-9eed-2dbb9a7446b4\",\"type\":\"WheelZoomTool\"},{\"id\":\"a56e75a5-df60-452f-82ab-8e1895b16c0c\",\"type\":\"ResetTool\"},{\"id\":\"5cdf49cf-2d1c-42c4-964d-fce1a34dbbc0\",\"type\":\"SaveTool\"}]},\"id\":\"dfa15c04-b3c1-4a60-a3ec-4219de8adb50\",\"type\":\"Toolbar\"},{\"attributes\":{},\"id\":\"59daf658-e356-4842-8d4f-f6ff52c58e36\",\"type\":\"BasicTickFormatter\"},{\"attributes\":{\"callback\":null},\"id\":\"844d8af8-085f-4f9a-9049-255b719926d3\",\"type\":\"DataRange1d\"},{\"attributes\":{\"plot\":{\"id\":\"02d6fb90-ecc7-47e6-a964-ea7eaa07c0e4\",\"subtype\":\"Figure\",\"type\":\"Plot\"}},\"id\":\"5cdf49cf-2d1c-42c4-964d-fce1a34dbbc0\",\"type\":\"SaveTool\"},{\"attributes\":{},\"id\":\"46555dfe-9fdb-41f0-8542-c642d5809b9a\",\"type\":\"ToolEvents\"},{\"attributes\":{\"fill_alpha\":{\"value\":0.1},\"fill_color\":{\"value\":\"#1f77b4\"},\"line_alpha\":{\"value\":0.1},\"line_color\":{\"value\":\"#1f77b4\"},\"size\":{\"units\":\"screen\",\"value\":8},\"x\":{\"field\":\"x1\"},\"y\":{\"field\":\"x2\"}},\"id\":\"166bae19-0bf9-40e9-bd22-46e9144f0e5d\",\"type\":\"Circle\"},{\"attributes\":{\"plot\":{\"id\":\"02d6fb90-ecc7-47e6-a964-ea7eaa07c0e4\",\"subtype\":\"Figure\",\"type\":\"Plot\"},\"source\":{\"id\":\"8c0aa400-d181-4262-9ace-16008d8789dd\",\"type\":\"ColumnDataSource\"},\"text\":{\"field\":\"names\"},\"text_align\":\"center\",\"text_color\":{\"value\":\"#555555\"},\"text_font_size\":{\"value\":\"8pt\"},\"x\":{\"field\":\"x1\"},\"y\":{\"field\":\"x2\"},\"y_offset\":{\"value\":6}},\"id\":\"113e7bc4-46cb-4fd4-8f32-d2f52a6f0608\",\"type\":\"LabelSet\"},{\"attributes\":{\"fill_color\":{\"value\":\"#1f77b4\"},\"line_color\":{\"value\":\"#1f77b4\"},\"size\":{\"units\":\"screen\",\"value\":8},\"x\":{\"field\":\"x1\"},\"y\":{\"field\":\"x2\"}},\"id\":\"5fb476eb-8a50-4b8e-8b1f-820fd77c301c\",\"type\":\"Circle\"},{\"attributes\":{\"formatter\":{\"id\":\"59daf658-e356-4842-8d4f-f6ff52c58e36\",\"type\":\"BasicTickFormatter\"},\"plot\":{\"id\":\"02d6fb90-ecc7-47e6-a964-ea7eaa07c0e4\",\"subtype\":\"Figure\",\"type\":\"Plot\"},\"ticker\":{\"id\":\"cad69bae-f873-4abc-b102-850478c4e1c4\",\"type\":\"BasicTicker\"}},\"id\":\"bcfe5934-4170-4a95-905b-062f36b4e309\",\"type\":\"LinearAxis\"},{\"attributes\":{\"plot\":null,\"text\":\"word2vec T-SNE for most common words\"},\"id\":\"9eb2e02e-277e-4a3c-98ba-2aae2d1ddaea\",\"type\":\"Title\"},{\"attributes\":{},\"id\":\"55ef4a8c-fefe-45d2-841a-c5ecda2ea1cd\",\"type\":\"BasicTicker\"},{\"attributes\":{\"plot\":{\"id\":\"02d6fb90-ecc7-47e6-a964-ea7eaa07c0e4\",\"subtype\":\"Figure\",\"type\":\"Plot\"}},\"id\":\"a56e75a5-df60-452f-82ab-8e1895b16c0c\",\"type\":\"ResetTool\"},{\"attributes\":{\"data_source\":{\"id\":\"8c0aa400-d181-4262-9ace-16008d8789dd\",\"type\":\"ColumnDataSource\"},\"glyph\":{\"id\":\"5fb476eb-8a50-4b8e-8b1f-820fd77c301c\",\"type\":\"Circle\"},\"hover_glyph\":null,\"muted_glyph\":null,\"nonselection_glyph\":{\"id\":\"166bae19-0bf9-40e9-bd22-46e9144f0e5d\",\"type\":\"Circle\"},\"selection_glyph\":null},\"id\":\"7e358ebb-aed3-4eb0-aca2-518bfd7c227c\",\"type\":\"GlyphRenderer\"},{\"attributes\":{\"callback\":null},\"id\":\"e46268a4-ec68-4bd3-b2ec-6dbc64ecb68b\",\"type\":\"DataRange1d\"},{\"attributes\":{\"callback\":null,\"column_names\":[\"x2\",\"x1\",\"names\"],\"data\":{\"names\":[\"the\",\"and\",\"to\",\"of\",\"a\",\"that\",\"i\",\"in\",\"it\",\"you\",\"we\",\"is\",\"s\",\"this\",\"so\",\"they\",\"was\",\"for\",\"are\",\"have\",\"but\",\"what\",\"on\",\"with\",\"can\",\"t\",\"about\",\"there\",\"be\",\"as\",\"at\",\"all\",\"not\",\"do\",\"my\",\"one\",\"re\",\"people\",\"like\",\"if\",\"from\",\"now\",\"our\",\"he\",\"an\",\"just\",\"these\",\"or\",\"when\",\"because\",\"very\",\"me\",\"out\",\"by\",\"them\",\"how\",\"know\",\"up\",\"going\",\"had\",\"more\",\"think\",\"who\",\"were\",\"see\",\"your\",\"their\",\"which\",\"would\",\"here\",\"really\",\"get\",\"ve\",\"then\",\"m\",\"world\",\"us\",\"time\",\"some\",\"has\",\"don\",\"actually\",\"into\",\"way\",\"where\",\"will\",\"years\",\"things\",\"other\",\"no\",\"could\",\"go\",\"well\",\"want\",\"been\",\"make\",\"right\",\"she\",\"said\",\"something\",\"those\",\"first\",\"two\",\"than\",\"much\",\"also\",\"look\",\"new\",\"thing\",\"little\",\"got\",\"back\",\"over\",\"most\",\"say\",\"even\",\"his\",\"life\",\"only\",\"work\",\"many\",\"take\",\"need\",\"did\",\"lot\",\"kind\",\"why\",\"good\",\"around\",\"every\",\"different\",\"down\",\"ll\",\"let\",\"her\",\"through\",\"same\",\"being\",\"come\",\"d\",\"day\",\"year\",\"three\",\"use\",\"doing\",\"put\",\"called\",\"any\",\"today\",\"percent\",\"made\",\"after\",\"thank\",\"tell\",\"great\",\"human\",\"find\",\"didn\",\"fact\",\"talk\",\"change\",\"started\",\"another\",\"idea\",\"big\",\"last\",\"own\",\"before\",\"its\",\"never\",\"should\",\"better\",\"give\",\"thought\",\"went\",\"might\",\"important\",\"000\",\"again\",\"together\",\"able\",\"still\",\"problem\",\"off\",\"next\",\"part\",\"course\",\"system\",\"him\",\"does\",\"each\",\"start\",\"show\",\"long\",\"ago\",\"story\",\"came\",\"brain\",\"few\",\"bit\",\"between\",\"used\",\"place\",\"technology\",\"women\",\"too\",\"old\",\"mean\",\"data\",\"water\",\"looking\",\"question\",\"maybe\",\"found\",\"love\",\"doesn\",\"end\",\"example\",\"10\",\"done\",\"point\",\"four\",\"real\",\"wanted\",\"ever\",\"school\",\"understand\",\"sort\",\"live\",\"call\",\"whole\",\"always\",\"children\",\"trying\",\"may\",\"person\",\"away\",\"believe\",\"feel\",\"try\",\"million\",\"working\",\"help\",\"everything\",\"five\",\"country\",\"thinking\",\"second\",\"using\",\"information\",\"money\",\"means\",\"took\",\"power\",\"times\",\"high\",\"space\",\"number\",\"kids\",\"home\",\"become\",\"create\",\"small\",\"design\",\"making\",\"best\",\"left\",\"getting\",\"future\",\"enough\",\"man\",\"quite\",\"city\",\"without\",\"sense\",\"happened\",\"comes\",\"social\",\"probably\",\"light\",\"less\",\"talking\",\"energy\",\"am\",\"building\",\"science\",\"food\",\"body\",\"told\",\"interesting\",\"half\",\"ask\",\"pretty\",\"play\",\"hard\",\"anything\",\"lives\",\"countries\",\"coming\",\"such\",\"family\",\"stuff\",\"dollars\",\"moment\",\"earth\",\"20\",\"imagine\",\"across\",\"side\",\"saw\",\"while\",\"happen\",\"okay\",\"once\",\"build\",\"having\",\"men\",\"later\",\"experience\",\"makes\",\"asked\",\"living\",\"seen\",\"says\",\"room\",\"hand\",\"simple\",\"health\",\"ways\",\"else\",\"case\",\"yet\",\"almost\",\"young\",\"days\",\"nothing\",\"bad\",\"care\",\"happens\",\"goes\",\"move\",\"states\",\"reason\",\"computer\",\"open\",\"learn\",\"africa\",\"process\",\"inside\",\"someone\",\"six\",\"far\",\"project\",\"mind\",\"remember\",\"single\",\"picture\",\"both\",\"whether\",\"problems\",\"saying\",\"community\",\"basically\",\"already\",\"within\",\"looked\",\"myself\",\"billion\",\"possible\",\"often\",\"business\",\"planet\",\"global\",\"top\",\"everybody\",\"sure\",\"public\",\"set\",\"wrong\",\"car\",\"book\",\"keep\",\"yes\",\"answer\",\"oh\",\"sometimes\",\"hope\",\"true\",\"history\",\"war\",\"guy\",\"child\",\"instead\",\"months\",\"ideas\",\"looks\",\"matter\",\"government\",\"amazing\",\"united\",\"since\",\"bring\",\"age\",\"cells\",\"job\",\"heard\",\"until\",\"face\",\"wasn\",\"100\",\"read\",\"control\",\"isn\",\"research\",\"30\",\"words\",\"u\",\"group\",\"under\",\"self\",\"somebody\",\"built\",\"state\",\"woman\",\"turn\",\"beautiful\",\"friends\",\"line\",\"knew\",\"couple\",\"order\",\"form\",\"yeah\",\"internet\",\"middle\",\"music\",\"piece\",\"nature\",\"head\",\"though\",\"stop\",\"everyone\",\"50\",\"places\",\"video\",\"learned\",\"language\",\"run\",\"night\",\"decided\",\"study\",\"word\",\"cancer\",\"works\",\"taking\",\"became\",\"exactly\",\"species\",\"completely\",\"society\",\"education\",\"against\",\"stories\",\"large\",\"share\",\"level\",\"heart\",\"america\",\"model\",\"questions\",\"gets\",\"mother\",\"god\",\"company\",\"turns\",\"ourselves\",\"happening\",\"hear\",\"art\",\"themselves\",\"must\",\"itself\",\"rather\",\"kinds\",\"students\",\"name\",\"hours\",\"disease\",\"front\",\"house\",\"huge\",\"couldn\",\"created\",\"universe\",\"ok\",\"animals\",\"american\",\"environment\",\"worked\",\"minutes\",\"ones\",\"black\",\"perhaps\",\"1\",\"past\",\"third\",\"along\",\"finally\",\"others\",\"sound\",\"early\",\"game\",\"thousands\",\"century\",\"based\",\"least\",\"per\",\"ted\",\"lots\",\"figure\",\"free\",\"guys\",\"particular\",\"happy\",\"news\",\"learning\",\"entire\",\"won\",\"gave\",\"machine\",\"india\",\"during\",\"systems\",\"air\",\"difference\",\"outside\",\"natural\",\"taken\",\"seven\",\"given\",\"changed\",\"leave\",\"cell\",\"15\",\"close\",\"behind\",\"cities\",\"full\",\"scale\",\"china\",\"difficult\",\"takes\",\"companies\",\"yourself\",\"area\",\"reality\",\"seeing\",\"easy\",\"turned\",\"cost\",\"eyes\",\"team\",\"moving\",\"population\",\"culture\",\"york\",\"hands\",\"whatever\",\"began\",\"needs\",\"terms\",\"image\",\"needed\",\"simply\",\"beginning\",\"father\",\"local\",\"realized\",\"media\",\"parents\",\"death\",\"walk\",\"view\",\"white\",\"market\",\"parts\",\"ocean\",\"economic\",\"eight\",\"powerful\",\"week\",\"known\",\"size\",\"felt\",\"humans\",\"certain\",\"spend\",\"longer\",\"phone\",\"wonderful\",\"cannot\",\"grow\",\"common\",\"center\",\"tried\",\"fish\",\"land\",\"oil\",\"deal\",\"interested\",\"political\",\"red\",\"gone\",\"amount\",\"weeks\",\"spent\",\"opportunity\",\"paper\",\"lost\",\"national\",\"quickly\",\"blue\",\"step\",\"poor\",\"green\",\"buy\",\"wouldn\",\"growth\",\"either\",\"patients\",\"sitting\",\"ability\",\"changes\",\"write\",\"challenge\",\"south\",\"low\",\"friend\",\"growing\",\"field\",\"2\",\"shows\",\"born\",\"rest\",\"climate\",\"40\",\"test\",\"street\",\"surface\",\"incredible\",\"average\",\"morning\",\"physical\",\"value\",\"program\",\"scientists\",\"pay\",\"feeling\",\"met\",\"hundreds\",\"girl\",\"behavior\",\"economy\",\"dna\",\"complex\",\"access\",\"risk\",\"animal\",\"structure\",\"feet\",\"attention\",\"areas\",\"anyone\",\"deep\",\"watch\",\"short\",\"absolutely\",\"brought\",\"speak\",\"bottom\",\"die\",\"numbers\",\"audience\",\"stage\",\"realize\",\"images\",\"law\",\"wrote\",\"understanding\",\"books\",\"knowledge\",\"literally\",\"movement\",\"ground\",\"giving\",\"eat\",\"force\",\"seems\",\"alone\",\"telling\",\"starting\",\"hold\",\"nice\",\"sea\",\"forward\",\"developed\",\"individual\",\"kid\",\"millions\",\"support\",\"miles\",\"tools\",\"running\",\"online\",\"result\",\"act\",\"medical\",\"technologies\",\"north\",\"development\",\"lab\",\"blood\",\"fear\",\"nobody\",\"map\",\"personal\",\"voice\",\"issue\",\"key\",\"material\",\"recently\",\"12\",\"theory\",\"cut\",\"cars\",\"sun\",\"fast\",\"changing\",\"playing\",\"clear\",\"especially\",\"girls\",\"soon\",\"patient\",\"choice\",\"fly\",\"creating\",\"discovered\",\"talked\",\"relationship\",\"europe\",\"normal\",\"gives\",\"generation\",\"dark\",\"type\",\"showed\",\"asking\",\"industry\",\"seem\",\"chance\",\"rate\",\"hour\",\"designed\",\"fun\",\"color\",\"issues\",\"university\",\"several\",\"computers\",\"innovation\",\"class\",\"tiny\",\"english\",\"save\",\"allow\",\"focus\",\"developing\",\"digital\",\"solve\",\"film\",\"network\",\"special\",\"wall\",\"situation\",\"baby\",\"solution\",\"box\",\"reasons\",\"knows\",\"meet\",\"stand\",\"dead\",\"begin\",\"impact\",\"haven\",\"anybody\",\"term\",\"pictures\",\"beyond\",\"please\",\"produce\",\"ice\",\"shape\",\"non\",\"resources\",\"robot\",\"cool\",\"stay\",\"likely\",\"groups\",\"rights\",\"available\",\"truth\",\"major\",\"obviously\",\"evidence\",\"experiment\",\"cause\",\"writing\",\"drug\",\"modern\",\"incredibly\",\"becomes\",\"bigger\",\"guess\",\"aren\",\"nine\",\"product\",\"drugs\",\"lived\",\"involved\",\"perfect\",\"month\",\"google\",\"similar\",\"putting\",\"effect\",\"pick\",\"eye\",\"message\",\"web\",\"quality\",\"violence\",\"security\",\"evolution\",\"office\",\"basic\",\"indeed\",\"general\",\"solar\",\"towards\",\"drive\",\"present\",\"worth\",\"listen\",\"send\",\"revolution\",\"hundred\",\"explain\",\"died\",\"certainly\",\"ready\",\"teach\",\"journey\",\"25\",\"walking\",\"hit\",\"led\",\"international\",\"approach\",\"200\",\"games\",\"scientific\",\"60\",\"crazy\",\"potential\",\"chinese\",\"communities\",\"device\",\"camera\",\"source\",\"carbon\",\"sex\",\"rules\",\"sounds\",\"boy\",\"reach\",\"starts\",\"west\",\"examples\",\"3\",\"success\",\"software\",\"measure\",\"particularly\",\"totally\",\"suddenly\",\"action\",\"higher\",\"college\",\"code\",\"eventually\",\"democracy\",\"minute\",\"among\",\"sit\",\"largest\",\"showing\",\"hospital\",\"period\",\"notice\",\"mass\",\"develop\",\"dream\",\"onto\",\"add\",\"plants\",\"break\",\"memory\",\"zero\",\"everywhere\",\"11\",\"favorite\",\"speed\",\"moved\",\"schools\",\"response\",\"wants\",\"individuals\",\"table\",\"extremely\",\"movie\",\"wait\",\"anyway\",\"follow\",\"medicine\",\"trust\",\"biggest\",\"plant\",\"watching\",\"organization\",\"creative\",\"road\",\"worse\",\"choose\",\"results\",\"500\",\"lead\",\"exciting\",\"grew\",\"materials\",\"jobs\",\"positive\",\"plan\",\"poverty\",\"east\",\"safe\",\"strong\",\"fall\",\"essentially\",\"door\",\"object\",\"vision\",\"son\",\"continue\",\"further\",\"happiness\",\"student\",\"doctor\",\"role\",\"including\",\"named\",\"objects\",\"extraordinary\",\"standing\",\"skin\",\"leaders\",\"usually\",\"projects\",\"african\",\"conversation\",\"models\",\"allowed\",\"supposed\",\"interest\",\"faster\",\"police\",\"families\",\"fight\",\"tree\",\"connected\",\"cases\",\"screen\",\"5\",\"somewhere\",\"goal\",\"shown\",\"buildings\",\"finding\"],\"x1\":{\"__ndarray__\":\"zTYt2bMyMcBWBTsmdxobwC0pFS0YFRPAUWcZoinxMMBMAdDc46QdwB4XN7ZdhBnAexcS5bkuJkA38JfQY2QXwOi6atEJdxfA/bFlqpLlIkAwQH/kKzskQJWFJ7P1AC5A7F3MiTznLUC1M6lw4qkYwD5SZx4NhxnA0x7xfnf8I0A3xRi/HDgZwKbyD0wTDyXAqlxBooSSIEBibemuNBX+v7x2jB67ChbARYiJOVpCBECTab9LAS0MwEr3eSdJVgzAm1NhdOSWNMA+YRsfxLIkwN6IRyKxFSLAkVLuNBqsIsAVKF6Z2griv6WB89bOYS7ABN+hsXsy+b9833kPShQrwK0bNI0FCijAgmDkKeMxvb/PQcfXCQ4dQIALCuy29CDAQQ6aKwJRIEBqTzB6YI8mQPwmFdqI3CbAqmsKDLujMsBGcvatuNftvwbr6RZgdSHAzF7VOluUI0Co72Ru9bQaQFzSDvkUuR7A6lOXs9+BIcA8/BR2kuskQNdoXi8XwSbAqokgQ4qmF8CJfJ07pg4XwKyxhfOgAzvANcw3oz4TKED5tYtkQd7bP4AHcnFGnB7A7Jn87qfWI0CSBIJLxe2vP4o5cwi/rQ9ACaEzfn6d8z+aRXbE3CkZQFoSUjkRTyLAXKTYz3xEMEA9bOvWRcUQQGEza+bJQgdA85AX4SeoIEAc3aHBn6oNQK3imF9ZjSNAbg9dJzt/JUDMdgotGoUXwFUokZ2dnjPAtuPsEnMXH0AvajzCNe85wKq8gTxDZQlAClLmkUOEA8CkfrfMMAcVwJKq/pjjixVAV2ivOx7WNsBpxX4cVVsjQB+o6iAXnAPAwLTODPo88z8jpfmA2BMiwN1xKmQdnyvAu9An6SSSHsDI50EVRbbIP0YmD7n5jCXAgjf4YeC1GsD8IkVs4cA0wOCU8gPBhTjApSb+kqRJEUBmn7LdO7cawL0GOvVOnyRACrNHVOHcM8C77RNIF3sTQA30wH+jXyJAtIHEhUaYKkBPlaRcQjAqwJ641IGAEwjApIoksRzpI0B4yj7ilD8aQB3huh04YSRA3oDYsLCWCECbWXXdAu4kQMwhE6MWxDHAm54fZc2S5D+w7Xvr00UlwDSFjoiMmQvA1vCwqHxWHsCbQOXQhsUXwBTfHwFt/iPA8hu3lkOnMcAmjDbOjJAFwMPJlpepbifAF4o8Z74x1z9/6CH31HX5PwDlDKZo5DDAPh5QIb9jFUBKJ/sZTtkmwB7hXqDoJx1A8+jlNDEoK8DKHZKZSusiwOBFVoE1SSnALoGlFzSp7z97/aA9HkP+P+ZsyyAIjypA2v69fmNiLUD7RLIUrS75P+VOcARp/SVA3D0l9mKfGkCu0lzuH3sYwISEKAE6vvU/sRTU0jT0NMDMEHr1irAvwKnx7OornbM/K8mDjKywNMBbdrAumyYbQKuWEY9XVhxAJeNCOHIq1j8LItdliJImwJ90d2zw5CPA20dgIi83FUCd43LOdT4zwPCxz1aEcznAaRkufq+1OcBTezxhGqrhP/8CFICh3QnAD7mt6O9TIsBAECyoMokHQNun1BxfgSvA/qnyHmW++T/57LPoSTIiwNz0cKXvehLAbcKdHZFjLsBWiC4sHJYUwBMkm9f9Gx5AzG3mMMS3AkA5xEKcsl0owH7bd+QKJCbA4IninNt+9L+fKVN0vUErwMdXC1VaaCjAoI203wURAkDPc7kUdRUUwLMFlWoB8C9AQOPc7oGzHsBfjJkscE4pwG24+0fHvSXAxJqALsUaGUAYtUAPvQkvwFgvcAd06RTA1PDib+pOI8DucRkHJikxwNfB22g9HzXA9xQrAfhQMEAKAJZXpCnzP5sutm9qiRvArh57Fv+mE8ByRo5mQfI0wBvt+L6Ahy3Atmn5DtzPDcAziARZhvcVwC75NQy1tPY/erHQ/iEKGkBq2t8i2OgiwBqoMH+TeDDAb2rmr44jkr/AdfX8F3wZQEQE2AgTrjDAk7YHbcdcK8C4UVWMj1clwO1IQK/o4idAbomiTiBGJkCDGHmAl/E0wHodeYvaMLk/QPZDlb9aA0B/MNN43IowwMEaysC2NhDAnyCETXGt9r/Y7pFkFs0TwPzewebykQRAdWh/sjtDsT9ARfLIIooQwP5owp5sUjLA+nvqzEZhL8CowqVrcCApwPnte10OBSLArFOALfBRKEBL3scIqE08wA/K8yRFDgnAZWeKBlhJFECEFEe4SrgdwMAP0tMM2fM/Lc5HtjDsF8Cz+yJV9TMwwCMpQ8pQZCbASpmylCTmKMAdoCBZaW8jwMjiktxqpivA0t6l+znTDkA01xO+jEEWwIdxXwMe07m/n6+76t+hK8BPztJGZQkDwPJyKqQhlNA/EfUFPIpVJ8B/R3+UyIEsQEO9dbsZKTHAoidfCYmw/D/L2xmJjIreP5IhPUqZ/SVAUsSEkuVf5b/or89DPRMsQKWZMC11eSHARVjqG7HhI8CVWCq29scmQIjI/bAjBBlAhpDM13kHNcD1d53MWlkQQNuQmgKY2L6/tjuDVK+7EEArzwf+yyYYQFhOJoKhdxhA/CotVu0vDcBvDmFt/H0kwDFSuCyHlg/AFvaAKWNFDECuYSi3VqiRP6ak0Bw/EDbATw+X2vpREMD7J+BBEnAgwAYqhrpCWjDAWpdZKRHIHcDCAYV6JNTrv50DSco/ECDAniHMu4pPGcD+4HXjPy4rwE9y3nlmIDfAc8WY/LlfMkA9Pn804n4hwD68ODpVaf2/3B70IGfTJkBROHYHz7gAQIExM5RPIvW/F7DKr9N/CcBc9ZtQ2wYiwMijJvCgJCXA/2eb+4mLLsApmlqvm88xwIA+CTS7pnU/CSBDbDCGLsDfxhJ4688xwAEgp3dRPCbAITYruYj7EUAEiMRYnm46wKr9Rx1LhjXAaR1kq8nyAcA9ygyS+PgswME7UIQzbSXA0Y/3z7XQMECUSZxy59UzwDSe7VLrmyXAQ+ye584y1z9ESAReQC8wQBP5jHDyDBDAN41oDqn90j9BGp0xR44VQNInsMyNZiLACE1O+rskMsAcShQxaiD9P/DESbm3BwJAEkX0j8HMC8AqM6PeQpYswJ361nUf2P+/uD32cTIB9j/IXBIL5rU7wFbLEJwIc+0/+1pIAiBmKMAF3ebknrkKQIswhI4qeyFAsPvq3rWVIUAiroV5Kvf5v34lStJWsC7AInWVEhziJkBjo/nak6YOQFCrc+V5PxXAjDc/+p/SA8AHQTeFkWUAQBkWlOJXud6/2CP91RmhDkCwNfWoGNf0P8vFdeg3qfc/M8VsKWvbHMBi5cNkVTkZwLJ/Ga3P5Jq/2MLxVebzIEDiHospXsMYwCg4fJGXNgnAWk8lS4x2EMDfEom/WUQoQO2+gSkE+w/Ah33Du6gGLMBPja8v7rkwQJn1Y0Nf4grARKIntIWjKMDG0cJyj7EqwPgCs4ZTiCRACBLrnKqw+j8Y9ifvON76P8YbWmqi3izAv1mBSccfNsABmXs+NyYYQGa11M+icRVA8D7qvc2wKMBNhtRGTwskwIvffSI83yDA3XTXWi8yB0B4OkAVwu43wOcCYE+QpwtAhTPhvKZ9GMC3jO6nxmIawDsoMH9YxyDAdQXvuCO2MECV6sJwSm8QQLzc70BV9TXARZjKBafBMcBMlf4hePAQwLLdkUmMLwLAKsfbaq+Arj+O7dNJ6II1wHkCqP7aNiTAkHtggI7vDMBF7w2JFIMTQIMgf0aoiMy/IBbLriBrDMCHaMqTG2EpwHYgPuUREyrAOORGppcZDUDRCqnqxv8wwAQwdwJiABXAo6G+NRQUK8DezrbPV4kzwLKW09HfBR5AQjaFk00ZIkAp/53d7Ko1wMS8ZBWeHh/AHijh3VBFIsCEc7ulcAEbwM81YyFMrxnALKh7YdwrJ0B3txh/zwUNwAln5qoZ7wjAy9YJH+qHKsDtFDRGnJc1wO0mGiqB3wBALuHTrmrMM8BXuv6HLtDaPyoVt5hzyBBADrl4L0eLIsDeyAn1pYo1wGT2kSBjbyDA7L+J0bY7JMBkpNt7bAABQOgbH5lZ4wTAcdPAbcoB8T8AheR/wo0hQEj0r2fFZzDA1otFj73GIUCNrGoIFVEpwPleGwBSDS7AsdiAWGEWCcCTLT1wt5cywCMRgEmlcjbAJIbeYNMvEkBClzMx8dcPQLqwc2Yikh7A5UTCbOMHOMAaIeno81kXQDHhGAfuACHA14rBCx/zLsBh1Rk4PDE2wFDxufEnRSvAttlPwpybNMBGttGj5yIXwKTPtEThbwNAtVsQWoRgE8D6OfHEVvDrv6LuZr79wyvAiOiACZAbKcBeObvKpI0VwHm1oy8voQNAZwpMCRG1J8A707LMD2fov+zJVCtIYvM/30j9gm9LFcAFi2xfRsonwIgkQjnSUyjA6vwRy2xi4L+baBRlKwMUQOiRXXKpvTTA170cFAz5K8ADSY6lQ2gSwNgBn2NKPC3ADtfMUpwtE0B07hQnVlIvwMqu68664zTAj/74EUqFEUCDwY8Tua8OQN9ZgWwKkynAbj/c6a8WJ0AUQkapHZDov6mGrMBYbxzA8KfwqZcNrz+K0VmGizAiwHpAegeNZCLA7U8ud65gIUDuD/NKxCogwNu2p5b04zPArnt/ssg5CcBa96BgNGERwNYR/Lz0vybA74kNPwLx/j+wy8pPvsYlwMtuwDpnGus/5jBlK5C2EEDHQWHfVBrhv0Lx2x+G4x9AqMC2RSzoCsC3CEdVcYIowEPBONlbpTTAg3sVtwVzD0C/oyjrNgbIP7R7pLtNOi1A87xptn2PJ8Auj0L1ll4MwIHuunQPaCpA13uWCGkhIcBLDpiN5LgtwLfy5WU3ehnAWq2wvoxPIMCRWNwoYscfQHnzaMTYqCLA/3mLPzwDMsBth4/hdq81wJmACmLSKDPAEX+fC0swFEDmFU8ioQgiwIe66IcEJfM/CnDya2gzE8A2tfI1nggDQADou2InaTXAisSsVdpVJcCZOUSY0A0wwMMAAqklBzBAiL1NhWNhFkA6SaCIOUchQO57ll6//inAtgIkEnR0FcAN251mBPAiQOzJ1SgmqSHANMFuDtv6BUDLCgHcnSgywE9w5YToWSNAQ079A0RXNcC6x9flfrIjwI0KTsOX6i9AgzYJtb+0G0BaKhpiPKcmQMXhGmvkugzAhrqP8Jr7N8BzGLj+XWgqQJ8POVo/ZfG/rjqDzSTx+z+5yCGY9bgkwJn0PHiErirAEOhLKndyK8AZq1SFlpMlwJNaf2wltCBAhPVDAM3+HUCGy0RXBhs2wPeySlCdcSXA+3ayyjjZJcC1Pm8qCvo3wOzZRwnz7x1A5v2Dio3++L+argrgrQ4mwGSrx0n9qf2/th4aV5ffGkC+ETKGqlsgwMYHYnHnHuk/dbrLYeqtFMBLdym2JhcjQB2GWUnJBBvAIPzt2Hi2HcDvF/Aok2cIwClJmP/SuPc/y1/MdzZHN8B46IXTU9AcwJu+g33E1w7A2lvmeYx/BsDxEWUYo4IQwISkuJksKvc/zm3wYDyE9r/Orl1qGx4kwBeLleensBVAg7/T85u1MMCfAZ2J+M0iwPhGYw8IGi3ARviNoXD8KcBYM681emMzwHt/FjkAeirAzDiPxdkTGsD/F+Y0oE8SwPiR2zb1ZTXA/MXWvAFGFsB/EaskOgEVQOzeO1ETmNs/atdJIgr/LcBU7+Dui+YMwPGhWeZ2TifAbGB0LgPLKcDnm8FB8kHmv2oGcGbx5ynANotkj7qIJ8D1zAsoLB8DQFFCNoeyQfG/lgQcKu+r3b+pkK7kbYwQwBLdmmZ2Wg3A7wCTRwfSIECDsWCq2F0dwElDJAPerBjAvgxw4bhRNcDBTBC4/28owA9kfqr3ZTBAVeLxN1d/IUAcVJ90UNIjQCnWo0eq4x3Am4t1pcluJsBsfe/UmWkhwOj64Pu9dyjA6FRuIOV3FcAekY2p2YkVwOoZPejd4QxABCeIICGkK8AupKt7hCz2v/2JxHqEqTPA+m7PV8aOMcDChRcpmpMOQMLNcg2qtAFASS2JEkyUM8Cg3agJdwswQHbKG8I66itAwfrvQJoKL8AWYK+NdRMWwKGZT9dlOCxArqFW/sZkKMDVti51zNgRQNiHnH86NBZAlVHBmDOFNcDIiHtZzMYcwPxUgtpfxjLAsFBs0gsDJ0DRow6MJjUwwH3bbvCiDBFAryVtUqxvJ8Drp777aS75vwRBRs5bxzHAE3ym3wLBHEC2xmMjTunyv4PgAnZ0YTPAfOv5peUl6L8cIpq5IxQtwHxMmSuR0jnA1g0lqtnaLcDGoiW1jY4ewAjbjHgDEx3AaKp0VweDH0Dccwcs28ovwIswepxFLOa/LyHzpdKFLUDTjJzolkr/vzmAmmZekynA3PuSiDKVNcDK1zkVjKf2P1oahv7why7Ah3skqiWpNMBfC3e8N9MtQKTeUteNL+S/hK4atiKJsj8gX+h8uPy+P90NDjKDajDAVPGSgfAOL8CF0ZVgvb4zwGE0JpOjPPi/8CvAWDmxKcDMb8+2Dx0bwL5X4mEG+zfAvvmJFEHEJcCay9FETdEuwBQchtD/cAnA45pPGJKBJ8CWj68r+zM1wPe4xXQGew3AEJJbJx5j+L9GUk7yDoojwJtGBmLtPSzAXJIBfugu+7+2O51AuL3jP8xBQnPShCrAn+rOWbRMM8CgOGFHjpMzwAUOwZ6p9SRA7jlHHgZo+7+iH6r791giwOhcgnVx5iXAaeOW18Kz8j/C4EgXcpIvwEnSq5g9rTTALIsd85NZMkB8DbXMfzkVQBI1xw5eIPW/JpB74kLJIcC3VL38+Qn7v8ehhjGDgyDA9kPYfXriEsATJcg2nGopwDTs7a0M/jPADqVYlBsQ6r90eLSjDcQlwNrgCCesp/i/gJpB4WzOaz/0ceUU/SErwIl9lOgXEA/Ace60kUb5yj+FN59lh7EnwFYsASDybyvA+rsRg4S6KMAYRdlNRiEjQCT0vvwooMc/ji15WUtyH8CopwdK+/YkwPc/RSnSgfc/Rzv3ZLcOEEA8Z/E7GN8lwOCfCYrxRzPAzqk9a0RcG8CkZT6g+4ctwEt/iaMGChPA6Ih4Mgc8EcA02Mqcc3YbwMfTCWIvQiLAOXHAJezpNsAoHI3GahEnwGc4aaLdDx9Az//6XsuLEUCKUqwwFx0FwPy7mF4DrwZAXXb3dQZsMMCHVIoZQtwiwCWnYEj7lCjAXPQlqN6NAEBuEXN5wSrdP+tsr6D82QVAFW32lOX4FkCrUqSER5wTwHx8FWytPKq/fA+zIP45D0DiKCm4J4QXQCMkLoeK0TPAsW8vuf7uGsCcht8H+iIqwLQOQR4tNxRAauvlxdcUK8BckDx9S2gbwCFg+/DeJTHAEMJcipbzub/K0tIXD3ktwIs7fShvIQFAhbjDHNrxMMDukm72bi4bwBVylEgLsyDAWV2dt1XGC8AbZPTKSLMSQNzpnGn24QNAGKegXztkKcDe6v8P7vfjP2TNuIBgRvS/DwpfOpDxLMDi6zV0dK0bwMA1GwqvEQ9A9ZVQrYwi+D/PaWFLm14RwKjmAK5x5TbApP5aknF6F0DHp8/py2kAwFSBWtuVn9U/j+XxnYgtLcC4jDoDcSwwwOamvyE26jTANFC2aB6oEkDk95/W5p40wD5undStGjPAjdD/XrKJKMBKluY+g4z5PzZN64ExjS7ABaWtiutOEECxGy/hBH4gwGjgS4FR3i7A7uyeFcncDcCAzfpoCE4wwCgIyQOa+i/A3FxxlSZXIcDDmxX0NZ0ewHTy3yL57O+/5sQC3VvJJ8CEyACMI2gLQNnCZdEnyRtADHlcijMcxz9nsIvsi/QNwFQHdKb1eCfAd18w0abDDcBhdWR88IAqwFy4O7JWhCvAS9vspyV9JkDwHKADWk4NwInOoiEwugxAoPf82ZxoLsBLy1ciM3MNQKX4F3XGxirAJJHjnDqTKcDyKbFnu4MowOHa84TMiy3AIzX2+95ONcCSNV5OoXUkwFOQkcsOtDBA4A5feBFCLcCYlyNf6vIDwO5oAcig7SDAA2wG10coHcDUJBG5Y5UKwE5IkhXFEDLAyVwYtwCyHMCE4VYAbksuwACM6ituEBPAr3aly1f2OMBwDVHwfasvwOts8al/EijAS3WQ2pI3/r8E4pYqT/cdQDHoITcLkvg/PIZfrGlt778gp+nwHmcWQA3PS6m0kTLAEXQlBEQiNsCi/XyJA1YAwHRWGyuh+TTAIYi7iZ374L/5OIjFD8QLwCErUQT0ixvAhDnOEzXFMMBL8bI7GZ0nwBignhckeQHAxnr/VgGaCsDataNNmVUhwNGMVkdJZS7AGthM+9e3/z8OCjY3p8IpwIkPaBBCRQ1AZtuTiQGeL8BnCJFOdQn1v13aUB1j1THApziT7q1IJ0A/+plFId0BQKLB2rB7bw1AeE4axDx+E8AC3xSv4tnFP4yH78mEhinAoVqfjWu8KMAWKE0z9koRQK/yLKMzVzDAjzoeczY2GEDWq0c/zfz3v2Rbcj2dxx5AcI2CAeVwB8AQWdjdEqPwPylYMYGGqyLAl5sjeyfkMMBIV7u4swMLQH4Ct42rshbA6w0uOxaGKcDVpm8T/FQGQKsIS+J/dyXAWhWpIhT9IUDvZKA8Rxo0wPnGL5ghMSXAx+rAUUr3LcAzh1/GvcYywI4N8/xzSSPArbxO3KQbKcA0s/JVZQcmwBBExfyReC/AUkNVi73lDsCsPcnpcl0xwNKVyQeyPjLAgWTtA2lWOsD/ngdueZ8vQMfFsOunXi9Aq6UclMrKHkCYK8M6njgowBNvH6xeZPG/rRJp1XtRJMB6c25FN3kgQLI5xWPILCbAL7YS8ZbhLsA3ymfhtrokwNwWV5Y28jjA6UoKeftmGMBMvzyaF3wuwA778jxM2y3Aw9f2x+9BKcAje3tRg6sCQJSiSUZQcgBArP5aHgl1EMB0B8JNuVkgwFFmvqpKhSvAypos2rnmM8B9BAb/Xl40wDI+3CAezSbAo3f+7OpN/T+ct1qtSAcvwP/VhEgVtCbAUaPYiZOLMsBWxmvxEGTjvzWmjGzYsve/+9LtgXazBUDS6XNFOHApwMlAW3J2/CHAYYYIS/aHAUBw0HXMp6QAQB+v4yHIpjLAmroY130q9r+pk2hUAYbkPygD6xqyfSXAkdRAAfsiJsC03AQ4Vu4SQFUbRven3vA/4nv6rQbHK8AaGdibLYPvvyfmDLxenPy/XennHOyZEUDSwOHyOyspwGBXioJnVDXAdPAIDSDGJcCOUAeEY4z1v18SZN/uwNg/Inp9nIc+MsD3feYEeurvv98N3PtAsyfA2SuvfExuK8C3Es26XIM1wNYWdV3GyiJA6knxizEpBcA2Je5uRRAIwLeLdQS/lyLANsb8qjUOw7+Iatr8wy4rwB0XqZsJ1hdAb4ey5YSDG8AXutRT8uYOQGLUWN55TwhA01WprXbhL0DcyCUhzdQ0wGp1LGzpwRdA4hxJl5MX/L8KOqC9zCYuwBOdAG/eYhjA7PmihhyXFMApMEQ3LHoqwG4cHQ152CHA9eHx0yMKGMBap2VY5hUxwCGvhs8Aki9APKEILE7H/j8wfui0AxMbwGTW1eG3PBnAKpTMo64zMsDmaGJGG0k5wD1TMH21wjLA4/btPmZNEEC+pQImdxEzwFbT60HT0yDAIW/+Fdta/T+vKPZrr7oywIjRR7NacQ1AiZq4Va7CH8CEJ/TPcCEIwJWhrgjtESzAyvalZgVkDcDz2ReiFNL+P3ekhXA/4RlALTphJfvRB0BgZez35rMnwMjt5yucAxbATJZtklMyHcD1BAnkel/7v2+zLIRJPxDA8+jmuXUjE8AmB8Hjn0IowOEhFwA0piJATEc2VeY1L8BO8HdsWPYpQBxGwbEYaCJAlK/RvTk51D/+XOzLZsE6wIYnzCfOuRPA+KJ2CEQ2DkDTWFkR+qQewKLDSPPGYf0/6BcDJR1pMsCCQsqM2kMKwMEQNa3w2TLAGwTdS53MH8Bj8s6+38kLwEWyaABhUzXAFoSfpu9WLcCqfRQ6rG/ovx/Wj+0AoC9A6szfA2O7+D/f4qqMb+UXQIooUCXJcfy/nGcZAfSm4r/t7hLcKDAswA2k6kPQy/a/+fYnoHu3E0BmtpBt7aYhQEIisfLHVi3ATSuJUd99K8Cc3WK5Kd8zwGe0drlalzTAInwhlb/OJMAHvbI2meQswJuP7Awdzg5A0RMszsB4I8DFFWrbh9TxP8vTGtZuORjAubPwO0kVLMChIBjvfakVQIH1HtecEdI/ORbC5rG5LUA2zyCWSdktwMNxTrdLWANAliQE70D4DUCG+Xua9cYwwBC5huJDwDLA7tPyA5SHA0CZEGz4AoMZQJHzr0SURSvAen1pUkJ+9r/oEf7bQoL7PyT28JLfxSJASXx1xr1yKcDhfdvMyrMaQDQLurbpGjbAp1JzubTVK8B0sV4RdpMPQGg5s0SVbhRAPmtPRz6TFEAc9mZ6k5AvwI2Vt6eX7C5AewjVW3E+NsD8VNRpoMUjQFjSB3ivMfY//ik/i01+97/stLJiVhgowFYIQ0z7SR5Ats689v40zb8ETNILHez4v6zPC/AK4A7ApqxFeFaPLsC0wntCDfIqwODLjJDpGxhAU+L+10eQKsA=\",\"dtype\":\"float64\",\"shape\":[1000]},\"x2\":{\"__ndarray__\":\"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\",\"dtype\":\"float64\",\"shape\":[1000]}}},\"id\":\"8c0aa400-d181-4262-9ace-16008d8789dd\",\"type\":\"ColumnDataSource\"},{\"attributes\":{\"plot\":{\"id\":\"02d6fb90-ecc7-47e6-a964-ea7eaa07c0e4\",\"subtype\":\"Figure\",\"type\":\"Plot\"}},\"id\":\"3600ef0c-7f56-4316-8cd6-eb96492d112d\",\"type\":\"PanTool\"},{\"attributes\":{\"plot\":{\"id\":\"02d6fb90-ecc7-47e6-a964-ea7eaa07c0e4\",\"subtype\":\"Figure\",\"type\":\"Plot\"}},\"id\":\"edce98cc-fe85-4560-9eed-2dbb9a7446b4\",\"type\":\"WheelZoomTool\"},{\"attributes\":{\"dimension\":1,\"plot\":{\"id\":\"02d6fb90-ecc7-47e6-a964-ea7eaa07c0e4\",\"subtype\":\"Figure\",\"type\":\"Plot\"},\"ticker\":{\"id\":\"cad69bae-f873-4abc-b102-850478c4e1c4\",\"type\":\"BasicTicker\"}},\"id\":\"0e68aa0d-e973-41b4-ba39-23bc60783a55\",\"type\":\"Grid\"},{\"attributes\":{\"plot\":{\"id\":\"02d6fb90-ecc7-47e6-a964-ea7eaa07c0e4\",\"subtype\":\"Figure\",\"type\":\"Plot\"},\"ticker\":{\"id\":\"55ef4a8c-fefe-45d2-841a-c5ecda2ea1cd\",\"type\":\"BasicTicker\"}},\"id\":\"d29a4c99-ce27-4f12-a26e-be27b9690ef4\",\"type\":\"Grid\"},{\"attributes\":{},\"id\":\"cad69bae-f873-4abc-b102-850478c4e1c4\",\"type\":\"BasicTicker\"},{\"attributes\":{\"formatter\":{\"id\":\"c7acec72-7713-4664-8db3-bf7c5274dc85\",\"type\":\"BasicTickFormatter\"},\"plot\":{\"id\":\"02d6fb90-ecc7-47e6-a964-ea7eaa07c0e4\",\"subtype\":\"Figure\",\"type\":\"Plot\"},\"ticker\":{\"id\":\"55ef4a8c-fefe-45d2-841a-c5ecda2ea1cd\",\"type\":\"BasicTicker\"}},\"id\":\"230feaf5-9043-485b-969e-1fa227cb56d7\",\"type\":\"LinearAxis\"},{\"attributes\":{},\"id\":\"c7acec72-7713-4664-8db3-bf7c5274dc85\",\"type\":\"BasicTickFormatter\"},{\"attributes\":{\"below\":[{\"id\":\"230feaf5-9043-485b-969e-1fa227cb56d7\",\"type\":\"LinearAxis\"}],\"left\":[{\"id\":\"bcfe5934-4170-4a95-905b-062f36b4e309\",\"type\":\"LinearAxis\"}],\"renderers\":[{\"id\":\"230feaf5-9043-485b-969e-1fa227cb56d7\",\"type\":\"LinearAxis\"},{\"id\":\"d29a4c99-ce27-4f12-a26e-be27b9690ef4\",\"type\":\"Grid\"},{\"id\":\"bcfe5934-4170-4a95-905b-062f36b4e309\",\"type\":\"LinearAxis\"},{\"id\":\"0e68aa0d-e973-41b4-ba39-23bc60783a55\",\"type\":\"Grid\"},{\"id\":\"7e358ebb-aed3-4eb0-aca2-518bfd7c227c\",\"type\":\"GlyphRenderer\"},{\"id\":\"113e7bc4-46cb-4fd4-8f32-d2f52a6f0608\",\"type\":\"LabelSet\"}],\"title\":{\"id\":\"9eb2e02e-277e-4a3c-98ba-2aae2d1ddaea\",\"type\":\"Title\"},\"tool_events\":{\"id\":\"46555dfe-9fdb-41f0-8542-c642d5809b9a\",\"type\":\"ToolEvents\"},\"toolbar\":{\"id\":\"dfa15c04-b3c1-4a60-a3ec-4219de8adb50\",\"type\":\"Toolbar\"},\"toolbar_location\":\"above\",\"x_range\":{\"id\":\"e46268a4-ec68-4bd3-b2ec-6dbc64ecb68b\",\"type\":\"DataRange1d\"},\"y_range\":{\"id\":\"844d8af8-085f-4f9a-9049-255b719926d3\",\"type\":\"DataRange1d\"}},\"id\":\"02d6fb90-ecc7-47e6-a964-ea7eaa07c0e4\",\"subtype\":\"Figure\",\"type\":\"Plot\"}],\"root_ids\":[\"02d6fb90-ecc7-47e6-a964-ea7eaa07c0e4\"]},\"title\":\"Bokeh Application\",\"version\":\"0.12.5\"}};\n",
       "            var render_items = [{\"docid\":\"2d3f69a7-0c8a-44de-919d-687e6c8ecc35\",\"elementid\":\"60a050ac-73b2-44d0-acc9-50246da7f908\",\"modelid\":\"02d6fb90-ecc7-47e6-a964-ea7eaa07c0e4\"}];\n",
       "            \n",
       "            Bokeh.embed.embed_items(docs_json, render_items);\n",
       "          };\n",
       "          if (document.readyState != \"loading\") fn();\n",
       "          else document.addEventListener(\"DOMContentLoaded\", fn);\n",
       "        })();\n",
       "      },\n",
       "      function(Bokeh) {\n",
       "      }\n",
       "    ];\n",
       "  \n",
       "    function run_inline_js() {\n",
       "      \n",
       "      if ((window.Bokeh !== undefined) || (force === true)) {\n",
       "        for (var i = 0; i < inline_js.length; i++) {\n",
       "          inline_js[i](window.Bokeh);\n",
       "        }if (force === true) {\n",
       "          display_loaded();\n",
       "        }} else if (Date.now() < window._bokeh_timeout) {\n",
       "        setTimeout(run_inline_js, 100);\n",
       "      } else if (!window._bokeh_failed_load) {\n",
       "        console.log(\"Bokeh: BokehJS failed to load within specified timeout.\");\n",
       "        window._bokeh_failed_load = true;\n",
       "      } else if (force !== true) {\n",
       "        var cell = $(document.getElementById(\"60a050ac-73b2-44d0-acc9-50246da7f908\")).parents('.cell').data().cell;\n",
       "        cell.output_area.append_execute_result(NB_LOAD_WARNING)\n",
       "      }\n",
       "  \n",
       "    }\n",
       "  \n",
       "    if (window._bokeh_is_loading === 0) {\n",
       "      console.log(\"Bokeh: BokehJS loaded, going straight to plotting\");\n",
       "      run_inline_js();\n",
       "    } else {\n",
       "      load_libs(js_urls, function() {\n",
       "        console.log(\"Bokeh: BokehJS plotting callback run at\", now());\n",
       "        run_inline_js();\n",
       "      });\n",
       "    }\n",
       "  }(this));\n",
       "</script>"
      ]
     },
     "metadata": {},
     "output_type": "display_data"
    }
   ],
   "source": [
    "p = figure(tools=\"pan,wheel_zoom,reset,save\",\n",
    "           toolbar_location=\"above\",\n",
    "           title=\"word2vec T-SNE for most common words\")\n",
    "\n",
    "source = ColumnDataSource(data=dict(x1=words_top_ted_tsne[:,0],\n",
    "                                    x2=words_top_ted_tsne[:,1],\n",
    "                                    names=words_top_ted))\n",
    "\n",
    "p.scatter(x=\"x1\", y=\"x2\", size=8, source=source)\n",
    "\n",
    "labels = LabelSet(x=\"x1\", y=\"x2\", text=\"names\", y_offset=6,\n",
    "                  text_font_size=\"8pt\", text_color=\"#555555\",\n",
    "                  source=source, text_align='center')\n",
    "p.add_layout(labels)\n",
    "\n",
    "show(p)"
   ]
  },
  {
   "cell_type": "markdown",
   "metadata": {
    "deletable": true,
    "editable": true
   },
   "source": [
    "### Part 5: Wiki Learnt Representations"
   ]
  },
  {
   "cell_type": "markdown",
   "metadata": {
    "deletable": true,
    "editable": true
   },
   "source": [
    "Download dataset"
   ]
  },
  {
   "cell_type": "code",
   "execution_count": 22,
   "metadata": {
    "collapsed": true,
    "deletable": true,
    "editable": true
   },
   "outputs": [],
   "source": [
    "if not os.path.isfile('wikitext-103-raw-v1.zip'):\n",
    "    urllib.urlretrieve(\"https://s3.amazonaws.com/research.metamind.io/wikitext/wikitext-103-raw-v1.zip\", filename=\"wikitext-103-raw-v1.zip\")"
   ]
  },
  {
   "cell_type": "code",
   "execution_count": 23,
   "metadata": {
    "collapsed": false,
    "deletable": true,
    "editable": true
   },
   "outputs": [],
   "source": [
    "with zipfile.ZipFile('wikitext-103-raw-v1.zip', 'r') as z:\n",
    "    input_text = str(z.open('wikitext-103-raw/wiki.train.raw', 'r').read()) # Thanks Robert Bastian"
   ]
  },
  {
   "cell_type": "markdown",
   "metadata": {
    "deletable": true,
    "editable": true
   },
   "source": [
    "Preprocess sentences (note that it's important to remove small sentences for performance)"
   ]
  },
  {
   "cell_type": "code",
   "execution_count": 24,
   "metadata": {
    "collapsed": false,
    "deletable": true,
    "editable": true
   },
   "outputs": [
    {
     "name": "stdout",
     "output_type": "stream",
     "text": [
      "[' = Valkyria Chronicles III = ', ' Senj\\xc5\\x8d no Valkyria 3 : Unrecorded Chronicles ( Japanese : \\xe6\\x88\\xa6\\xe5\\xa0\\xb4\\xe3\\x81\\xae\\xe3\\x83\\xb4\\xe3\\x82\\xa1\\xe3\\x83\\xab\\xe3\\x82\\xad\\xe3\\x83\\xa5\\xe3\\x83\\xaa\\xe3\\x82\\xa23 , lit ', ' Valkyria of the Battlefield 3 ) , commonly referred to as Valkyria Chronicles III outside Japan , is a tactical role @-@ playing video game developed by Sega and Media', 'Vision for the PlayStation Portable ', ' Released in January 2011 in Japan , it is the third game in the Valkyria series ']\n"
     ]
    }
   ],
   "source": [
    "sentences_wiki = []\n",
    "for line in input_text.split('\\n'):\n",
    "    s = [x for x in line.split('.') if x and len(x.split()) >= 5]\n",
    "    sentences_wiki.extend(s)\n",
    "\n",
    "print sentences_wiki[:5]    \n",
    "    \n",
    "for s_i in range(len(sentences_wiki)):\n",
    "    sentences_wiki[s_i] = re.sub(\"[^a-z]\", \" \", sentences_wiki[s_i].lower())\n",
    "    sentences_wiki[s_i] = re.sub(r'\\([^)]*\\)', '', sentences_wiki[s_i]).split()\n",
    "del input_text"
   ]
  },
  {
   "cell_type": "code",
   "execution_count": 25,
   "metadata": {
    "collapsed": false,
    "deletable": true,
    "editable": true
   },
   "outputs": [
    {
     "name": "stdout",
     "output_type": "stream",
     "text": [
      "saving sentences\n"
     ]
    }
   ],
   "source": [
    "print \"saving sentences\"\n",
    "with open(\"wiki_sentences_clean.txt\", \"w\") as outfile:\n",
    "    for sent in sentences_wiki:\n",
    "        outfile.write(\"%s\\n\" % \" \".join(sent))\n"
   ]
  },
  {
   "cell_type": "code",
   "execution_count": 26,
   "metadata": {
    "collapsed": false,
    "deletable": true,
    "editable": true
   },
   "outputs": [
    {
     "name": "stdout",
     "output_type": "stream",
     "text": [
      "4267112\n",
      "853422\n"
     ]
    }
   ],
   "source": [
    "# sample 1/5 of the data\n",
    "shuffle(sentences_wiki)\n",
    "print(len(sentences_wiki))\n",
    "sentences_wiki = sentences_wiki[:int(len(sentences_wiki)/5)]\n",
    "print(len(sentences_wiki))"
   ]
  },
  {
   "cell_type": "markdown",
   "metadata": {
    "deletable": true,
    "editable": true
   },
   "source": [
    "Now, repeat all the same steps that you performed above. You should be able to reuse essentially all the code."
   ]
  },
  {
   "cell_type": "code",
   "execution_count": 27,
   "metadata": {
    "collapsed": false,
    "deletable": true,
    "editable": true
   },
   "outputs": [
    {
     "name": "stdout",
     "output_type": "stream",
     "text": [
      "Vocabulary size 234459\n"
     ]
    }
   ],
   "source": [
    "words = {}\n",
    "for sent in sentences_wiki:\n",
    "    for w in sent:\n",
    "        words[w] = words.get(w, 0) + 1\n",
    "print \"Vocabulary size %d\" % len(words)\n",
    "\n",
    "counts_wiki_top1000 = [words[w] for w in sorted(words, key=words.__getitem__, reverse=True)][:1000]\n",
    "words_top_wiki = [w for w in sorted(words, key=words.__getitem__, reverse=True)][:1000]\n"
   ]
  },
  {
   "cell_type": "code",
   "execution_count": 29,
   "metadata": {
    "collapsed": true,
    "deletable": true,
    "editable": true
   },
   "outputs": [],
   "source": [
    "model_wiki = Word2Vec(sentences_wiki, size=100, window=5, min_count=5, workers=4)\n"
   ]
  },
  {
   "cell_type": "markdown",
   "metadata": {
    "deletable": true,
    "editable": true
   },
   "source": [
    "#### t-SNE visualization"
   ]
  },
  {
   "cell_type": "code",
   "execution_count": 30,
   "metadata": {
    "collapsed": false,
    "deletable": true,
    "editable": true
   },
   "outputs": [],
   "source": [
    "# This assumes words_top_wiki is a list of strings, the top 1000 words\n",
    "words_top_vec_wiki = model_wiki[words_top_wiki]\n",
    "\n",
    "tsne = TSNE(n_components=2, random_state=0)\n",
    "words_top_wiki_tsne = tsne.fit_transform(words_top_vec_wiki)"
   ]
  },
  {
   "cell_type": "code",
   "execution_count": 31,
   "metadata": {
    "collapsed": false,
    "deletable": true,
    "editable": true
   },
   "outputs": [
    {
     "data": {
      "text/html": [
       "\n",
       "\n",
       "    <div class=\"bk-root\">\n",
       "        <div class=\"bk-plotdiv\" id=\"78e99639-da64-4df5-ab7e-abfe7f7b88e0\"></div>\n",
       "    </div>\n",
       "<script type=\"text/javascript\">\n",
       "  \n",
       "  (function(global) {\n",
       "    function now() {\n",
       "      return new Date();\n",
       "    }\n",
       "  \n",
       "    var force = false;\n",
       "  \n",
       "    if (typeof (window._bokeh_onload_callbacks) === \"undefined\" || force === true) {\n",
       "      window._bokeh_onload_callbacks = [];\n",
       "      window._bokeh_is_loading = undefined;\n",
       "    }\n",
       "  \n",
       "  \n",
       "    \n",
       "    if (typeof (window._bokeh_timeout) === \"undefined\" || force === true) {\n",
       "      window._bokeh_timeout = Date.now() + 0;\n",
       "      window._bokeh_failed_load = false;\n",
       "    }\n",
       "  \n",
       "    var NB_LOAD_WARNING = {'data': {'text/html':\n",
       "       \"<div style='background-color: #fdd'>\\n\"+\n",
       "       \"<p>\\n\"+\n",
       "       \"BokehJS does not appear to have successfully loaded. If loading BokehJS from CDN, this \\n\"+\n",
       "       \"may be due to a slow or bad network connection. Possible fixes:\\n\"+\n",
       "       \"</p>\\n\"+\n",
       "       \"<ul>\\n\"+\n",
       "       \"<li>re-rerun `output_notebook()` to attempt to load from CDN again, or</li>\\n\"+\n",
       "       \"<li>use INLINE resources instead, as so:</li>\\n\"+\n",
       "       \"</ul>\\n\"+\n",
       "       \"<code>\\n\"+\n",
       "       \"from bokeh.resources import INLINE\\n\"+\n",
       "       \"output_notebook(resources=INLINE)\\n\"+\n",
       "       \"</code>\\n\"+\n",
       "       \"</div>\"}};\n",
       "  \n",
       "    function display_loaded() {\n",
       "      if (window.Bokeh !== undefined) {\n",
       "        var el = document.getElementById(\"78e99639-da64-4df5-ab7e-abfe7f7b88e0\");\n",
       "        el.textContent = \"BokehJS \" + Bokeh.version + \" successfully loaded.\";\n",
       "      } else if (Date.now() < window._bokeh_timeout) {\n",
       "        setTimeout(display_loaded, 100)\n",
       "      }\n",
       "    }\n",
       "  \n",
       "    function run_callbacks() {\n",
       "      window._bokeh_onload_callbacks.forEach(function(callback) { callback() });\n",
       "      delete window._bokeh_onload_callbacks\n",
       "      console.info(\"Bokeh: all callbacks have finished\");\n",
       "    }\n",
       "  \n",
       "    function load_libs(js_urls, callback) {\n",
       "      window._bokeh_onload_callbacks.push(callback);\n",
       "      if (window._bokeh_is_loading > 0) {\n",
       "        console.log(\"Bokeh: BokehJS is being loaded, scheduling callback at\", now());\n",
       "        return null;\n",
       "      }\n",
       "      if (js_urls == null || js_urls.length === 0) {\n",
       "        run_callbacks();\n",
       "        return null;\n",
       "      }\n",
       "      console.log(\"Bokeh: BokehJS not loaded, scheduling load and callback at\", now());\n",
       "      window._bokeh_is_loading = js_urls.length;\n",
       "      for (var i = 0; i < js_urls.length; i++) {\n",
       "        var url = js_urls[i];\n",
       "        var s = document.createElement('script');\n",
       "        s.src = url;\n",
       "        s.async = false;\n",
       "        s.onreadystatechange = s.onload = function() {\n",
       "          window._bokeh_is_loading--;\n",
       "          if (window._bokeh_is_loading === 0) {\n",
       "            console.log(\"Bokeh: all BokehJS libraries loaded\");\n",
       "            run_callbacks()\n",
       "          }\n",
       "        };\n",
       "        s.onerror = function() {\n",
       "          console.warn(\"failed to load library \" + url);\n",
       "        };\n",
       "        console.log(\"Bokeh: injecting script tag for BokehJS library: \", url);\n",
       "        document.getElementsByTagName(\"head\")[0].appendChild(s);\n",
       "      }\n",
       "    };var element = document.getElementById(\"78e99639-da64-4df5-ab7e-abfe7f7b88e0\");\n",
       "    if (element == null) {\n",
       "      console.log(\"Bokeh: ERROR: autoload.js configured with elementid '78e99639-da64-4df5-ab7e-abfe7f7b88e0' but no matching script tag was found. \")\n",
       "      return false;\n",
       "    }\n",
       "  \n",
       "    var js_urls = [];\n",
       "  \n",
       "    var inline_js = [\n",
       "      function(Bokeh) {\n",
       "        (function() {\n",
       "          var fn = function() {\n",
       "            var docs_json = {\"87d1d7c9-bdd4-4399-a1e4-3e0fb4becfc9\":{\"roots\":{\"references\":[{\"attributes\":{\"fill_alpha\":{\"value\":0.1},\"fill_color\":{\"value\":\"#1f77b4\"},\"line_alpha\":{\"value\":0.1},\"line_color\":{\"value\":\"#1f77b4\"},\"size\":{\"units\":\"screen\",\"value\":8},\"x\":{\"field\":\"x1\"},\"y\":{\"field\":\"x2\"}},\"id\":\"27b4c533-6e27-4bd3-b40a-77381dca9c98\",\"type\":\"Circle\"},{\"attributes\":{\"active_drag\":\"auto\",\"active_scroll\":\"auto\",\"active_tap\":\"auto\",\"tools\":[{\"id\":\"5a3f17e7-f5d1-459c-8dd0-669d856aaeaa\",\"type\":\"PanTool\"},{\"id\":\"348c0ba0-a579-44f6-ae1c-d725857000f4\",\"type\":\"WheelZoomTool\"},{\"id\":\"b8305635-80a2-4dbc-9fe1-b4664755d16e\",\"type\":\"ResetTool\"},{\"id\":\"50ec8b97-4ebb-41c3-81b9-6c096f580813\",\"type\":\"SaveTool\"}]},\"id\":\"5fd72ac9-3b45-4144-85f1-fa809c96d288\",\"type\":\"Toolbar\"},{\"attributes\":{},\"id\":\"10572d8d-f440-40df-8100-ad63e713b690\",\"type\":\"BasicTicker\"},{\"attributes\":{\"plot\":{\"id\":\"1dce51df-1b89-4c04-9809-703aba02cbb4\",\"subtype\":\"Figure\",\"type\":\"Plot\"},\"ticker\":{\"id\":\"10572d8d-f440-40df-8100-ad63e713b690\",\"type\":\"BasicTicker\"}},\"id\":\"76687963-87a8-4264-ae64-93da7d72a8e6\",\"type\":\"Grid\"},{\"attributes\":{},\"id\":\"1cc59dfd-0de7-4adb-8aed-79122f6eb405\",\"type\":\"BasicTicker\"},{\"attributes\":{\"callback\":null},\"id\":\"200d16a8-b2d5-4a91-94f4-26e71daff051\",\"type\":\"DataRange1d\"},{\"attributes\":{\"plot\":{\"id\":\"1dce51df-1b89-4c04-9809-703aba02cbb4\",\"subtype\":\"Figure\",\"type\":\"Plot\"}},\"id\":\"5a3f17e7-f5d1-459c-8dd0-669d856aaeaa\",\"type\":\"PanTool\"},{\"attributes\":{},\"id\":\"430f7717-2804-4a23-8de6-a189d3e37dea\",\"type\":\"ToolEvents\"},{\"attributes\":{\"plot\":{\"id\":\"1dce51df-1b89-4c04-9809-703aba02cbb4\",\"subtype\":\"Figure\",\"type\":\"Plot\"},\"source\":{\"id\":\"c8e7f660-fa3c-4a4e-911f-1cc4e34d6cdb\",\"type\":\"ColumnDataSource\"},\"text\":{\"field\":\"names\"},\"text_align\":\"center\",\"text_color\":{\"value\":\"#555555\"},\"text_font_size\":{\"value\":\"8pt\"},\"x\":{\"field\":\"x1\"},\"y\":{\"field\":\"x2\"},\"y_offset\":{\"value\":6}},\"id\":\"356df298-d265-47ac-a66a-9d8740830ce4\",\"type\":\"LabelSet\"},{\"attributes\":{\"data_source\":{\"id\":\"c8e7f660-fa3c-4a4e-911f-1cc4e34d6cdb\",\"type\":\"ColumnDataSource\"},\"glyph\":{\"id\":\"4f5f0560-c4c9-4a1f-9923-3238626026a6\",\"type\":\"Circle\"},\"hover_glyph\":null,\"muted_glyph\":null,\"nonselection_glyph\":{\"id\":\"27b4c533-6e27-4bd3-b40a-77381dca9c98\",\"type\":\"Circle\"},\"selection_glyph\":null},\"id\":\"6a28d61f-5e97-4774-b640-0d6934baf2dc\",\"type\":\"GlyphRenderer\"},{\"attributes\":{\"formatter\":{\"id\":\"1a1328c0-0f3b-4cb4-a8cb-a5058b3aca34\",\"type\":\"BasicTickFormatter\"},\"plot\":{\"id\":\"1dce51df-1b89-4c04-9809-703aba02cbb4\",\"subtype\":\"Figure\",\"type\":\"Plot\"},\"ticker\":{\"id\":\"10572d8d-f440-40df-8100-ad63e713b690\",\"type\":\"BasicTicker\"}},\"id\":\"87ce9be2-55fa-4f76-aa8b-753f5ea6fe15\",\"type\":\"LinearAxis\"},{\"attributes\":{},\"id\":\"d8756c5d-d497-4ee3-bf59-41b6ff9b7608\",\"type\":\"BasicTickFormatter\"},{\"attributes\":{\"callback\":null},\"id\":\"51ed0cb0-96f7-4f39-92b9-43e6c6178991\",\"type\":\"DataRange1d\"},{\"attributes\":{\"callback\":null,\"column_names\":[\"x2\",\"x1\",\"names\"],\"data\":{\"names\":[\"the\",\"of\",\"and\",\"in\",\"to\",\"a\",\"was\",\"s\",\"on\",\"as\",\"for\",\"that\",\"with\",\"by\",\"is\",\"his\",\"at\",\"he\",\"from\",\"it\",\"were\",\"an\",\"had\",\"which\",\"be\",\"this\",\"but\",\"are\",\"first\",\"not\",\"their\",\"after\",\"one\",\"her\",\"also\",\"its\",\"they\",\"two\",\"or\",\"have\",\"who\",\"been\",\"new\",\"has\",\"she\",\"when\",\"time\",\"during\",\"other\",\"would\",\"into\",\"all\",\"i\",\"more\",\"while\",\"over\",\"him\",\"later\",\"only\",\"game\",\"up\",\"most\",\"three\",\"about\",\"out\",\"between\",\"th\",\"than\",\"there\",\"some\",\"film\",\"may\",\"year\",\"before\",\"made\",\"no\",\"such\",\"season\",\"second\",\"where\",\"years\",\"world\",\"war\",\"both\",\"then\",\"however\",\"used\",\"through\",\"song\",\"them\",\"these\",\"being\",\"series\",\"m\",\"against\",\"many\",\"album\",\"north\",\"can\",\"city\",\"number\",\"team\",\"including\",\"became\",\"several\",\"part\",\"well\",\"united\",\"four\",\"early\",\"under\",\"state\",\"music\",\"south\",\"day\",\"so\",\"episode\",\"following\",\"said\",\"states\",\"known\",\"although\",\"american\",\"could\",\"did\",\"work\",\"began\",\"until\",\"because\",\"released\",\"like\",\"t\",\"end\",\"called\",\"high\",\"people\",\"since\",\"around\",\"british\",\"each\",\"long\",\"best\",\"found\",\"september\",\"life\",\"national\",\"if\",\"same\",\"another\",\"five\",\"million\",\"west\",\"show\",\"us\",\"back\",\"along\",\"you\",\"use\",\"km\",\"any\",\"took\",\"final\",\"group\",\"area\",\"off\",\"october\",\"august\",\"century\",\"received\",\"what\",\"john\",\"school\",\"government\",\"due\",\"line\",\"east\",\"will\",\"system\",\"june\",\"march\",\"july\",\"single\",\"games\",\"april\",\"november\",\"home\",\"left\",\"set\",\"third\",\"down\",\"general\",\"much\",\"major\",\"large\",\"york\",\"based\",\"road\",\"house\",\"place\",\"just\",\"family\",\"we\",\"played\",\"character\",\"december\",\"army\",\"now\",\"company\",\"six\",\"included\",\"band\",\"name\",\"history\",\"king\",\"wrote\",\"january\",\"near\",\"main\",\"according\",\"won\",\"own\",\"times\",\"men\",\"led\",\"death\",\"within\",\"last\",\"air\",\"those\",\"named\",\"d\",\"next\",\"top\",\"described\",\"de\",\"river\",\"battle\",\"way\",\"record\",\"very\",\"original\",\"late\",\"video\",\"still\",\"route\",\"make\",\"release\",\"man\",\"st\",\"great\",\"species\",\"ship\",\"league\",\"small\",\"even\",\"production\",\"storm\",\"u\",\"days\",\"force\",\"again\",\"old\",\"among\",\"february\",\"club\",\"public\",\"built\",\"though\",\"do\",\"university\",\"b\",\"role\",\"further\",\"service\",\"division\",\"held\",\"white\",\"book\",\"play\",\"player\",\"german\",\"members\",\"story\",\"french\",\"match\",\"h\",\"side\",\"having\",\"water\",\"power\",\"point\",\"continued\",\"former\",\"career\",\"local\",\"often\",\"england\",\"park\",\"black\",\"came\",\"town\",\"order\",\"without\",\"county\",\"considered\",\"few\",\"songs\",\"despite\",\"island\",\"half\",\"take\",\"party\",\"support\",\"become\",\"form\",\"version\",\"development\",\"different\",\"moved\",\"period\",\"written\",\"tropical\",\"military\",\"forces\",\"president\",\"country\",\"court\",\"c\",\"building\",\"lost\",\"my\",\"re\",\"ii\",\"little\",\"english\",\"given\",\"london\",\"n\",\"tour\",\"track\",\"gave\",\"street\",\"international\",\"produced\",\"never\",\"returned\",\"lead\",\"similar\",\"children\",\"land\",\"published\",\"stated\",\"went\",\"using\",\"performance\",\"position\",\"run\",\"television\",\"total\",\"church\",\"attack\",\"highway\",\"royal\",\"women\",\"short\",\"how\",\"live\",\"good\",\"class\",\"aircraft\",\"recorded\",\"control\",\"father\",\"include\",\"week\",\"making\",\"western\",\"per\",\"australia\",\"ships\",\"throughout\",\"fire\",\"once\",\"me\",\"less\",\"characters\",\"upon\",\"r\",\"central\",\"head\",\"star\",\"players\",\"right\",\"young\",\"age\",\"love\",\"light\",\"instead\",\"himself\",\"title\",\"design\",\"sea\",\"seven\",\"away\",\"return\",\"months\",\"died\",\"political\",\"rock\",\"ft\",\"ten\",\"developed\",\"law\",\"across\",\"writing\",\"eight\",\"remained\",\"result\",\"previous\",\"southern\",\"too\",\"james\",\"office\",\"night\",\"station\",\"william\",\"race\",\"e\",\"hurricane\",\"japanese\",\"red\",\"center\",\"reached\",\"college\",\"felt\",\"america\",\"act\",\"win\",\"areas\",\"low\",\"noted\",\"field\",\"various\",\"style\",\"eventually\",\"reported\",\"common\",\"son\",\"followed\",\"created\",\"performed\",\"should\",\"construction\",\"announced\",\"miles\",\"seen\",\"sent\",\"chart\",\"works\",\"full\",\"killed\",\"member\",\"range\",\"award\",\"together\",\"northern\",\"served\",\"success\",\"level\",\"appeared\",\"thought\",\"mm\",\"points\",\"campaign\",\"able\",\"established\",\"action\",\"george\",\"taken\",\"australian\",\"project\",\"get\",\"body\",\"playing\",\"originally\",\"located\",\"front\",\"stage\",\"post\",\"started\",\"born\",\"others\",\"bridge\",\"features\",\"caused\",\"football\",\"special\",\"rather\",\"fourth\",\"o\",\"modern\",\"sold\",\"addition\",\"feet\",\"critics\",\"decided\",\"present\",\"championship\",\"behind\",\"go\",\"popular\",\"director\",\"initially\",\"almost\",\"formed\",\"strong\",\"heavy\",\"site\",\"every\",\"open\",\"added\",\"fleet\",\"damage\",\"eastern\",\"important\",\"art\",\"saw\",\"weeks\",\"see\",\"close\",\"kingdom\",\"opened\",\"f\",\"non\",\"awards\",\"completed\",\"soon\",\"leading\",\"population\",\"region\",\"command\",\"guns\",\"case\",\"david\",\"event\",\"sound\",\"coast\",\"worked\",\"hall\",\"mi\",\"france\",\"scene\",\"mother\",\"scored\",\"ground\",\"free\",\"towards\",\"working\",\"featured\",\"michael\",\"least\",\"brought\",\"recording\",\"l\",\"training\",\"does\",\"help\",\"wanted\",\"hit\",\"victory\",\"henry\",\"either\",\"union\",\"studio\",\"cup\",\"average\",\"provided\",\"troops\",\"ever\",\"washington\",\"records\",\"navy\",\"put\",\"magazine\",\"events\",\"generally\",\"far\",\"allowed\",\"council\",\"placed\",\"runs\",\"nine\",\"designed\",\"wife\",\"example\",\"summer\",\"co\",\"robert\",\"joined\",\"europe\",\"human\",\"believed\",\"opening\",\"start\",\"list\",\"mid\",\"official\",\"police\",\"replaced\",\"earlier\",\"base\",\"minutes\",\"media\",\"operation\",\"particularly\",\"successful\",\"european\",\"shot\",\"saying\",\"hours\",\"radio\",\"better\",\"met\",\"japan\",\"x\",\"society\",\"change\",\"big\",\"possible\",\"crew\",\"beginning\",\"involved\",\"available\",\"films\",\"al\",\"association\",\"month\",\"highest\",\"rest\",\"finished\",\"mph\",\"brown\",\"forced\",\"review\",\"test\",\"squadron\",\"largest\",\"research\",\"process\",\"increased\",\"come\",\"outside\",\"san\",\"real\",\"taking\",\"goal\",\"significant\",\"ended\",\"lower\",\"turned\",\"cast\",\"charles\",\"community\",\"passed\",\"going\",\"must\",\"social\",\"hill\",\"section\",\"space\",\"units\",\"ordered\",\"winds\",\"enough\",\"additional\",\"cross\",\"relationship\",\"middle\",\"signed\",\"praised\",\"captain\",\"canada\",\"female\",\"appearance\",\"stone\",\"future\",\"california\",\"thus\",\"rights\",\"move\",\"business\",\"chief\",\"thomas\",\"elements\",\"previously\",\"spent\",\"paul\",\"overall\",\"program\",\"directed\",\"money\",\"above\",\"parts\",\"give\",\"musical\",\"reviews\",\"type\",\"plan\",\"told\",\"castle\",\"gold\",\"critical\",\"news\",\"evidence\",\"itself\",\"don\",\"lake\",\"g\",\"round\",\"infantry\",\"interest\",\"gun\",\"brother\",\"positive\",\"staff\",\"failed\",\"required\",\"hand\",\"board\",\"election\",\"find\",\"grand\",\"attempt\",\"district\",\"groups\",\"v\",\"sometimes\",\"asked\",\"square\",\"uk\",\"introduced\",\"port\",\"background\",\"entire\",\"battalion\",\"complete\",\"lines\",\"indian\",\"whom\",\"students\",\"india\",\"room\",\"committee\",\"smith\",\"term\",\"governor\",\"turn\",\"study\",\"usually\",\"germany\",\"prior\",\"person\",\"cover\",\"reception\",\"already\",\"personal\",\"limited\",\"speed\",\"p\",\"score\",\"past\",\"our\",\"whose\",\"press\",\"bill\",\"flight\",\"decision\",\"department\",\"quickly\",\"effects\",\"arrived\",\"k\",\"britain\",\"minister\",\"teams\",\"bay\",\"loss\",\"movement\",\"woman\",\"blue\",\"education\",\"ny\",\"response\",\"idea\",\"issue\",\"plot\",\"debut\",\"especially\",\"la\",\"surface\",\"cut\",\"stars\",\"commander\",\"anti\",\"food\",\"novel\",\"claimed\",\"length\",\"writer\",\"car\",\"green\",\"voice\",\"larger\",\"approximately\",\"estimated\",\"leaving\",\"mark\",\"peter\",\"latter\",\"remaining\",\"operations\",\"richard\",\"episodes\",\"centre\",\"winning\",\"queen\",\"changes\",\"services\",\"scenes\",\"industry\",\"carried\",\"village\",\"fifth\",\"earth\",\"shows\",\"might\",\"today\",\"god\",\"becoming\",\"living\",\"tracks\",\"science\",\"appointed\",\"finally\",\"material\",\"civil\",\"running\",\"virginia\",\"report\",\"provide\",\"face\",\"nearly\",\"pressure\",\"hot\",\"los\",\"structure\",\"commercial\",\"percent\",\"nature\",\"child\",\"wide\",\"shortly\",\"current\",\"entered\",\"defeated\",\"lack\",\"railway\",\"producer\",\"depression\",\"view\",\"pop\",\"naval\",\"intended\",\"married\",\"influence\",\"suggested\",\"proposed\",\"chinese\",\"network\",\"islands\",\"course\",\"date\",\"dark\",\"officer\",\"size\",\"empire\",\"experience\",\"daughter\",\"self\",\"fort\",\"subsequently\",\"supported\",\"leader\",\"immediately\",\"fact\",\"soldiers\",\"federal\",\"appear\",\"singles\",\"professional\",\"higher\",\"upper\",\"probably\",\"language\",\"effect\",\"agreed\",\"mostly\",\"planned\",\"regular\",\"destroyed\",\"compared\",\"yet\",\"awarded\",\"related\",\"brigade\",\"create\",\"friend\",\"spanish\",\"whether\",\"officers\",\"helped\",\"nd\",\"cost\",\"contract\",\"natural\",\"manager\",\"numerous\",\"your\",\"billboard\",\"ball\",\"plans\",\"friends\",\"soviet\",\"trade\",\"initial\",\"themselves\",\"really\",\"fans\",\"lyrics\",\"guitar\",\"jackson\",\"countries\",\"changed\",\"corps\",\"feature\",\"longer\",\"pacific\",\"something\",\"lord\",\"suffered\",\"difficult\",\"captured\",\"chicago\",\"buildings\",\"leave\",\"books\",\"edward\",\"forward\",\"key\",\"extended\",\"done\",\"health\",\"mixed\",\"includes\",\"location\",\"johnson\",\"moving\",\"pass\",\"energy\",\"albums\",\"removed\",\"copies\",\"private\",\"got\",\"information\",\"independent\",\"museum\",\"raised\",\"know\",\"dance\",\"always\",\"associated\",\"problems\",\"cm\",\"j\",\"remains\",\"primary\",\"conference\",\"atlantic\",\"winter\",\"minor\",\"ran\",\"broadcast\",\"minute\",\"fight\",\"valley\",\"florida\",\"dead\",\"texas\",\"singer\"],\"x1\":{\"__ndarray__\":\"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\",\"dtype\":\"float64\",\"shape\":[1000]},\"x2\":{\"__ndarray__\":\"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\",\"dtype\":\"float64\",\"shape\":[1000]}}},\"id\":\"c8e7f660-fa3c-4a4e-911f-1cc4e34d6cdb\",\"type\":\"ColumnDataSource\"},{\"attributes\":{\"plot\":{\"id\":\"1dce51df-1b89-4c04-9809-703aba02cbb4\",\"subtype\":\"Figure\",\"type\":\"Plot\"}},\"id\":\"b8305635-80a2-4dbc-9fe1-b4664755d16e\",\"type\":\"ResetTool\"},{\"attributes\":{\"plot\":{\"id\":\"1dce51df-1b89-4c04-9809-703aba02cbb4\",\"subtype\":\"Figure\",\"type\":\"Plot\"}},\"id\":\"348c0ba0-a579-44f6-ae1c-d725857000f4\",\"type\":\"WheelZoomTool\"},{\"attributes\":{\"formatter\":{\"id\":\"d8756c5d-d497-4ee3-bf59-41b6ff9b7608\",\"type\":\"BasicTickFormatter\"},\"plot\":{\"id\":\"1dce51df-1b89-4c04-9809-703aba02cbb4\",\"subtype\":\"Figure\",\"type\":\"Plot\"},\"ticker\":{\"id\":\"1cc59dfd-0de7-4adb-8aed-79122f6eb405\",\"type\":\"BasicTicker\"}},\"id\":\"6dc9ead1-ff78-47e0-bd1a-f34431a08678\",\"type\":\"LinearAxis\"},{\"attributes\":{\"below\":[{\"id\":\"87ce9be2-55fa-4f76-aa8b-753f5ea6fe15\",\"type\":\"LinearAxis\"}],\"left\":[{\"id\":\"6dc9ead1-ff78-47e0-bd1a-f34431a08678\",\"type\":\"LinearAxis\"}],\"renderers\":[{\"id\":\"87ce9be2-55fa-4f76-aa8b-753f5ea6fe15\",\"type\":\"LinearAxis\"},{\"id\":\"76687963-87a8-4264-ae64-93da7d72a8e6\",\"type\":\"Grid\"},{\"id\":\"6dc9ead1-ff78-47e0-bd1a-f34431a08678\",\"type\":\"LinearAxis\"},{\"id\":\"4f3cf790-2a6f-45b9-a8ca-850e545ec32d\",\"type\":\"Grid\"},{\"id\":\"6a28d61f-5e97-4774-b640-0d6934baf2dc\",\"type\":\"GlyphRenderer\"},{\"id\":\"356df298-d265-47ac-a66a-9d8740830ce4\",\"type\":\"LabelSet\"}],\"title\":{\"id\":\"0fad7c1a-e4f9-46e4-964a-f0f093af2a9a\",\"type\":\"Title\"},\"tool_events\":{\"id\":\"430f7717-2804-4a23-8de6-a189d3e37dea\",\"type\":\"ToolEvents\"},\"toolbar\":{\"id\":\"5fd72ac9-3b45-4144-85f1-fa809c96d288\",\"type\":\"Toolbar\"},\"toolbar_location\":\"above\",\"x_range\":{\"id\":\"51ed0cb0-96f7-4f39-92b9-43e6c6178991\",\"type\":\"DataRange1d\"},\"y_range\":{\"id\":\"200d16a8-b2d5-4a91-94f4-26e71daff051\",\"type\":\"DataRange1d\"}},\"id\":\"1dce51df-1b89-4c04-9809-703aba02cbb4\",\"subtype\":\"Figure\",\"type\":\"Plot\"},{\"attributes\":{\"plot\":null,\"text\":\"word2vec T-SNE for most common words\"},\"id\":\"0fad7c1a-e4f9-46e4-964a-f0f093af2a9a\",\"type\":\"Title\"},{\"attributes\":{},\"id\":\"1a1328c0-0f3b-4cb4-a8cb-a5058b3aca34\",\"type\":\"BasicTickFormatter\"},{\"attributes\":{\"plot\":{\"id\":\"1dce51df-1b89-4c04-9809-703aba02cbb4\",\"subtype\":\"Figure\",\"type\":\"Plot\"}},\"id\":\"50ec8b97-4ebb-41c3-81b9-6c096f580813\",\"type\":\"SaveTool\"},{\"attributes\":{\"dimension\":1,\"plot\":{\"id\":\"1dce51df-1b89-4c04-9809-703aba02cbb4\",\"subtype\":\"Figure\",\"type\":\"Plot\"},\"ticker\":{\"id\":\"1cc59dfd-0de7-4adb-8aed-79122f6eb405\",\"type\":\"BasicTicker\"}},\"id\":\"4f3cf790-2a6f-45b9-a8ca-850e545ec32d\",\"type\":\"Grid\"},{\"attributes\":{\"fill_color\":{\"value\":\"#1f77b4\"},\"line_color\":{\"value\":\"#1f77b4\"},\"size\":{\"units\":\"screen\",\"value\":8},\"x\":{\"field\":\"x1\"},\"y\":{\"field\":\"x2\"}},\"id\":\"4f5f0560-c4c9-4a1f-9923-3238626026a6\",\"type\":\"Circle\"}],\"root_ids\":[\"1dce51df-1b89-4c04-9809-703aba02cbb4\"]},\"title\":\"Bokeh Application\",\"version\":\"0.12.5\"}};\n",
       "            var render_items = [{\"docid\":\"87d1d7c9-bdd4-4399-a1e4-3e0fb4becfc9\",\"elementid\":\"78e99639-da64-4df5-ab7e-abfe7f7b88e0\",\"modelid\":\"1dce51df-1b89-4c04-9809-703aba02cbb4\"}];\n",
       "            \n",
       "            Bokeh.embed.embed_items(docs_json, render_items);\n",
       "          };\n",
       "          if (document.readyState != \"loading\") fn();\n",
       "          else document.addEventListener(\"DOMContentLoaded\", fn);\n",
       "        })();\n",
       "      },\n",
       "      function(Bokeh) {\n",
       "      }\n",
       "    ];\n",
       "  \n",
       "    function run_inline_js() {\n",
       "      \n",
       "      if ((window.Bokeh !== undefined) || (force === true)) {\n",
       "        for (var i = 0; i < inline_js.length; i++) {\n",
       "          inline_js[i](window.Bokeh);\n",
       "        }if (force === true) {\n",
       "          display_loaded();\n",
       "        }} else if (Date.now() < window._bokeh_timeout) {\n",
       "        setTimeout(run_inline_js, 100);\n",
       "      } else if (!window._bokeh_failed_load) {\n",
       "        console.log(\"Bokeh: BokehJS failed to load within specified timeout.\");\n",
       "        window._bokeh_failed_load = true;\n",
       "      } else if (force !== true) {\n",
       "        var cell = $(document.getElementById(\"78e99639-da64-4df5-ab7e-abfe7f7b88e0\")).parents('.cell').data().cell;\n",
       "        cell.output_area.append_execute_result(NB_LOAD_WARNING)\n",
       "      }\n",
       "  \n",
       "    }\n",
       "  \n",
       "    if (window._bokeh_is_loading === 0) {\n",
       "      console.log(\"Bokeh: BokehJS loaded, going straight to plotting\");\n",
       "      run_inline_js();\n",
       "    } else {\n",
       "      load_libs(js_urls, function() {\n",
       "        console.log(\"Bokeh: BokehJS plotting callback run at\", now());\n",
       "        run_inline_js();\n",
       "      });\n",
       "    }\n",
       "  }(this));\n",
       "</script>"
      ]
     },
     "metadata": {},
     "output_type": "display_data"
    }
   ],
   "source": [
    "p = figure(tools=\"pan,wheel_zoom,reset,save\",\n",
    "           toolbar_location=\"above\",\n",
    "           title=\"word2vec T-SNE for most common words\")\n",
    "\n",
    "source = ColumnDataSource(data=dict(x1=words_top_wiki_tsne[:,0],\n",
    "                                    x2=words_top_wiki_tsne[:,1],\n",
    "                                    names=words_top_wiki))\n",
    "\n",
    "p.scatter(x=\"x1\", y=\"x2\", size=8, source=source)\n",
    "\n",
    "labels = LabelSet(x=\"x1\", y=\"x2\", text=\"names\", y_offset=6,\n",
    "                  text_font_size=\"8pt\", text_color=\"#555555\",\n",
    "                  source=source, text_align='center')\n",
    "p.add_layout(labels)\n",
    "\n",
    "show(p)"
   ]
  },
  {
   "cell_type": "code",
   "execution_count": null,
   "metadata": {
    "collapsed": true,
    "deletable": true,
    "editable": true
   },
   "outputs": [],
   "source": []
  }
 ],
 "metadata": {
  "anaconda-cloud": {},
  "kernelspec": {
   "display_name": "Python 2",
   "language": "python",
   "name": "python2"
  },
  "language_info": {
   "codemirror_mode": {
    "name": "ipython",
    "version": 2
   },
   "file_extension": ".py",
   "mimetype": "text/x-python",
   "name": "python",
   "nbconvert_exporter": "python",
   "pygments_lexer": "ipython2",
   "version": "2.7.6"
  }
 },
 "nbformat": 4,
 "nbformat_minor": 0
}
